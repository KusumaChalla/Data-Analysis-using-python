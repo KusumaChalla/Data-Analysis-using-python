{
 "cells": [
  {
   "cell_type": "markdown",
   "id": "5de4a9e8",
   "metadata": {},
   "source": [
    "# Pandas:   "
   ]
  },
  {
   "cell_type": "markdown",
   "id": "62ade845",
   "metadata": {},
   "source": [
    "### _The two main data structures provided by Pandas are the Series and DataFrame_"
   ]
  },
  {
   "cell_type": "markdown",
   "id": "fbeab6f7",
   "metadata": {},
   "source": [
    "## Series"
   ]
  },
  {
   "cell_type": "markdown",
   "id": "960fb1cf",
   "metadata": {},
   "source": [
    "####  Example1"
   ]
  },
  {
   "cell_type": "code",
   "execution_count": 1,
   "id": "754b05f6",
   "metadata": {},
   "outputs": [
    {
     "name": "stdout",
     "output_type": "stream",
     "text": [
      "0    10\n",
      "1    20\n",
      "2    30\n",
      "3    40\n",
      "4    50\n",
      "dtype: int64\n"
     ]
    }
   ],
   "source": [
    "import pandas as pd\n",
    "\n",
    "\n",
    "data = [10, 20, 30, 40, 50]\n",
    "s = pd.Series(data)\n",
    "\n",
    "\n",
    "print(s)"
   ]
  },
  {
   "cell_type": "markdown",
   "id": "56394fb9",
   "metadata": {},
   "source": [
    "#### Example 2"
   ]
  },
  {
   "cell_type": "code",
   "execution_count": 2,
   "id": "8aa6b133",
   "metadata": {},
   "outputs": [],
   "source": [
    "import numpy as np\n",
    "labels = ['a','b','c']\n",
    "my_data = [10,20,30]\n",
    "arr = np.array(my_data)\n",
    "d = {'a':10,'b':20,'c':30}"
   ]
  },
  {
   "cell_type": "code",
   "execution_count": 3,
   "id": "5cb1f097",
   "metadata": {},
   "outputs": [],
   "source": [
    "a1 = pd.Series(my_data,labels)"
   ]
  },
  {
   "cell_type": "code",
   "execution_count": 4,
   "id": "d074f96a",
   "metadata": {},
   "outputs": [],
   "source": [
    "a2 = pd.Series(d)"
   ]
  },
  {
   "cell_type": "code",
   "execution_count": 5,
   "id": "9a22e63c",
   "metadata": {},
   "outputs": [
    {
     "data": {
      "text/plain": [
       "a    10\n",
       "b    20\n",
       "c    30\n",
       "dtype: int64"
      ]
     },
     "execution_count": 5,
     "metadata": {},
     "output_type": "execute_result"
    }
   ],
   "source": [
    "a1"
   ]
  },
  {
   "cell_type": "code",
   "execution_count": 6,
   "id": "cdb640d6",
   "metadata": {},
   "outputs": [
    {
     "data": {
      "text/plain": [
       "a    10\n",
       "b    20\n",
       "c    30\n",
       "dtype: int64"
      ]
     },
     "execution_count": 6,
     "metadata": {},
     "output_type": "execute_result"
    }
   ],
   "source": [
    "a2"
   ]
  },
  {
   "cell_type": "code",
   "execution_count": 7,
   "id": "e14e5d27",
   "metadata": {},
   "outputs": [
    {
     "data": {
      "text/plain": [
       "a    20\n",
       "b    40\n",
       "c    60\n",
       "dtype: int64"
      ]
     },
     "execution_count": 7,
     "metadata": {},
     "output_type": "execute_result"
    }
   ],
   "source": [
    "a1+a2"
   ]
  },
  {
   "cell_type": "code",
   "execution_count": 8,
   "id": "cec62df2",
   "metadata": {},
   "outputs": [
    {
     "data": {
      "text/plain": [
       "a    1.0\n",
       "b    1.0\n",
       "c    1.0\n",
       "dtype: float64"
      ]
     },
     "execution_count": 8,
     "metadata": {},
     "output_type": "execute_result"
    }
   ],
   "source": [
    "a1/a2"
   ]
  },
  {
   "cell_type": "code",
   "execution_count": 9,
   "id": "396cad40",
   "metadata": {},
   "outputs": [
    {
     "data": {
      "text/plain": [
       "a    0\n",
       "b    0\n",
       "c    0\n",
       "dtype: int64"
      ]
     },
     "execution_count": 9,
     "metadata": {},
     "output_type": "execute_result"
    }
   ],
   "source": [
    "a1-a2"
   ]
  },
  {
   "cell_type": "code",
   "execution_count": 10,
   "id": "bda8f813",
   "metadata": {},
   "outputs": [
    {
     "data": {
      "text/plain": [
       "a    0\n",
       "b    0\n",
       "c    0\n",
       "dtype: int64"
      ]
     },
     "execution_count": 10,
     "metadata": {},
     "output_type": "execute_result"
    }
   ],
   "source": [
    "a2-a1"
   ]
  },
  {
   "cell_type": "code",
   "execution_count": 11,
   "id": "1afcf4af",
   "metadata": {},
   "outputs": [
    {
     "data": {
      "text/plain": [
       "a    100\n",
       "b    400\n",
       "c    900\n",
       "dtype: int64"
      ]
     },
     "execution_count": 11,
     "metadata": {},
     "output_type": "execute_result"
    }
   ],
   "source": [
    "a1*a2"
   ]
  },
  {
   "cell_type": "code",
   "execution_count": 12,
   "id": "669411b5",
   "metadata": {},
   "outputs": [
    {
     "data": {
      "text/plain": [
       "a            10000000000\n",
       "b   -2101438300051996672\n",
       "c    2565992168703393792\n",
       "dtype: int64"
      ]
     },
     "execution_count": 12,
     "metadata": {},
     "output_type": "execute_result"
    }
   ],
   "source": [
    "a1**a2"
   ]
  },
  {
   "cell_type": "code",
   "execution_count": 13,
   "id": "d07dfd4f",
   "metadata": {},
   "outputs": [
    {
     "data": {
      "text/plain": [
       "a    0\n",
       "b    0\n",
       "c    0\n",
       "dtype: int64"
      ]
     },
     "execution_count": 13,
     "metadata": {},
     "output_type": "execute_result"
    }
   ],
   "source": [
    "a1%a2"
   ]
  },
  {
   "cell_type": "markdown",
   "id": "7ceec049",
   "metadata": {},
   "source": [
    "## Data Frames"
   ]
  },
  {
   "cell_type": "markdown",
   "id": "ebcb9887",
   "metadata": {},
   "source": [
    "#### Example 1"
   ]
  },
  {
   "cell_type": "code",
   "execution_count": 14,
   "id": "802b4ddf",
   "metadata": {},
   "outputs": [
    {
     "data": {
      "text/html": [
       "<div>\n",
       "<style scoped>\n",
       "    .dataframe tbody tr th:only-of-type {\n",
       "        vertical-align: middle;\n",
       "    }\n",
       "\n",
       "    .dataframe tbody tr th {\n",
       "        vertical-align: top;\n",
       "    }\n",
       "\n",
       "    .dataframe thead th {\n",
       "        text-align: right;\n",
       "    }\n",
       "</style>\n",
       "<table border=\"1\" class=\"dataframe\">\n",
       "  <thead>\n",
       "    <tr style=\"text-align: right;\">\n",
       "      <th></th>\n",
       "      <th>name</th>\n",
       "      <th>age</th>\n",
       "      <th>city</th>\n",
       "    </tr>\n",
       "  </thead>\n",
       "  <tbody>\n",
       "    <tr>\n",
       "      <th>0</th>\n",
       "      <td>Raki</td>\n",
       "      <td>20</td>\n",
       "      <td>Delhi</td>\n",
       "    </tr>\n",
       "    <tr>\n",
       "      <th>1</th>\n",
       "      <td>Pooja</td>\n",
       "      <td>21</td>\n",
       "      <td>Hyderabad</td>\n",
       "    </tr>\n",
       "    <tr>\n",
       "      <th>2</th>\n",
       "      <td>Anil</td>\n",
       "      <td>22</td>\n",
       "      <td>Vizag</td>\n",
       "    </tr>\n",
       "    <tr>\n",
       "      <th>3</th>\n",
       "      <td>Joda</td>\n",
       "      <td>21</td>\n",
       "      <td>US</td>\n",
       "    </tr>\n",
       "  </tbody>\n",
       "</table>\n",
       "</div>"
      ],
      "text/plain": [
       "    name  age       city\n",
       "0   Raki   20      Delhi\n",
       "1  Pooja   21  Hyderabad\n",
       "2   Anil   22      Vizag\n",
       "3   Joda   21         US"
      ]
     },
     "execution_count": 14,
     "metadata": {},
     "output_type": "execute_result"
    }
   ],
   "source": [
    "import pandas as pd \n",
    "\n",
    "data = {'name': ['Raki', 'Pooja', 'Anil', 'Joda'],\n",
    "\n",
    "'age': [20, 21, 22, 21], \n",
    "\n",
    "'city': ['Delhi', 'Hyderabad', 'Vizag', 'US']}\n",
    "\n",
    "df = pd.DataFrame(data) \n",
    "\n",
    "df"
   ]
  },
  {
   "cell_type": "markdown",
   "id": "e7cd8b77",
   "metadata": {},
   "source": [
    "#### Example 2"
   ]
  },
  {
   "cell_type": "code",
   "execution_count": 15,
   "id": "7be3248e",
   "metadata": {},
   "outputs": [],
   "source": [
    "from numpy.random import randn"
   ]
  },
  {
   "cell_type": "code",
   "execution_count": 16,
   "id": "5d67760d",
   "metadata": {},
   "outputs": [],
   "source": [
    "np.random.seed(101)"
   ]
  },
  {
   "cell_type": "code",
   "execution_count": 17,
   "id": "d3e5835f",
   "metadata": {},
   "outputs": [],
   "source": [
    "d = pd.DataFrame(randn(5,4),('A','B','C','D','E'),('W','X','Y','Z'))"
   ]
  },
  {
   "cell_type": "code",
   "execution_count": 18,
   "id": "8e091f07",
   "metadata": {},
   "outputs": [
    {
     "data": {
      "text/html": [
       "<div>\n",
       "<style scoped>\n",
       "    .dataframe tbody tr th:only-of-type {\n",
       "        vertical-align: middle;\n",
       "    }\n",
       "\n",
       "    .dataframe tbody tr th {\n",
       "        vertical-align: top;\n",
       "    }\n",
       "\n",
       "    .dataframe thead th {\n",
       "        text-align: right;\n",
       "    }\n",
       "</style>\n",
       "<table border=\"1\" class=\"dataframe\">\n",
       "  <thead>\n",
       "    <tr style=\"text-align: right;\">\n",
       "      <th></th>\n",
       "      <th>W</th>\n",
       "      <th>X</th>\n",
       "      <th>Y</th>\n",
       "      <th>Z</th>\n",
       "    </tr>\n",
       "  </thead>\n",
       "  <tbody>\n",
       "    <tr>\n",
       "      <th>A</th>\n",
       "      <td>2.706850</td>\n",
       "      <td>0.628133</td>\n",
       "      <td>0.907969</td>\n",
       "      <td>0.503826</td>\n",
       "    </tr>\n",
       "    <tr>\n",
       "      <th>B</th>\n",
       "      <td>0.651118</td>\n",
       "      <td>-0.319318</td>\n",
       "      <td>-0.848077</td>\n",
       "      <td>0.605965</td>\n",
       "    </tr>\n",
       "    <tr>\n",
       "      <th>C</th>\n",
       "      <td>-2.018168</td>\n",
       "      <td>0.740122</td>\n",
       "      <td>0.528813</td>\n",
       "      <td>-0.589001</td>\n",
       "    </tr>\n",
       "    <tr>\n",
       "      <th>D</th>\n",
       "      <td>0.188695</td>\n",
       "      <td>-0.758872</td>\n",
       "      <td>-0.933237</td>\n",
       "      <td>0.955057</td>\n",
       "    </tr>\n",
       "    <tr>\n",
       "      <th>E</th>\n",
       "      <td>0.190794</td>\n",
       "      <td>1.978757</td>\n",
       "      <td>2.605967</td>\n",
       "      <td>0.683509</td>\n",
       "    </tr>\n",
       "  </tbody>\n",
       "</table>\n",
       "</div>"
      ],
      "text/plain": [
       "          W         X         Y         Z\n",
       "A  2.706850  0.628133  0.907969  0.503826\n",
       "B  0.651118 -0.319318 -0.848077  0.605965\n",
       "C -2.018168  0.740122  0.528813 -0.589001\n",
       "D  0.188695 -0.758872 -0.933237  0.955057\n",
       "E  0.190794  1.978757  2.605967  0.683509"
      ]
     },
     "execution_count": 18,
     "metadata": {},
     "output_type": "execute_result"
    }
   ],
   "source": [
    "d"
   ]
  },
  {
   "cell_type": "markdown",
   "id": "bcee90fa",
   "metadata": {},
   "source": [
    "### Indexing and selecting subsets of the DataFrame"
   ]
  },
  {
   "cell_type": "code",
   "execution_count": 19,
   "id": "04ef360e",
   "metadata": {},
   "outputs": [
    {
     "data": {
      "text/plain": [
       "name     Raki\n",
       "age        20\n",
       "city    Delhi\n",
       "Name: 0, dtype: object"
      ]
     },
     "execution_count": 19,
     "metadata": {},
     "output_type": "execute_result"
    }
   ],
   "source": [
    "# select a row by label\n",
    "df.loc[0]"
   ]
  },
  {
   "cell_type": "code",
   "execution_count": 20,
   "id": "0b42db1a",
   "metadata": {},
   "outputs": [
    {
     "data": {
      "text/plain": [
       "0     Raki\n",
       "1    Pooja\n",
       "2     Anil\n",
       "3     Joda\n",
       "Name: name, dtype: object"
      ]
     },
     "execution_count": 20,
     "metadata": {},
     "output_type": "execute_result"
    }
   ],
   "source": [
    "# select a column by label\n",
    "df.loc[:, 'name']"
   ]
  },
  {
   "cell_type": "code",
   "execution_count": 21,
   "id": "8bf5b177",
   "metadata": {},
   "outputs": [
    {
     "data": {
      "text/html": [
       "<div>\n",
       "<style scoped>\n",
       "    .dataframe tbody tr th:only-of-type {\n",
       "        vertical-align: middle;\n",
       "    }\n",
       "\n",
       "    .dataframe tbody tr th {\n",
       "        vertical-align: top;\n",
       "    }\n",
       "\n",
       "    .dataframe thead th {\n",
       "        text-align: right;\n",
       "    }\n",
       "</style>\n",
       "<table border=\"1\" class=\"dataframe\">\n",
       "  <thead>\n",
       "    <tr style=\"text-align: right;\">\n",
       "      <th></th>\n",
       "      <th>name</th>\n",
       "      <th>city</th>\n",
       "    </tr>\n",
       "  </thead>\n",
       "  <tbody>\n",
       "    <tr>\n",
       "      <th>1</th>\n",
       "      <td>Pooja</td>\n",
       "      <td>Hyderabad</td>\n",
       "    </tr>\n",
       "    <tr>\n",
       "      <th>2</th>\n",
       "      <td>Anil</td>\n",
       "      <td>Vizag</td>\n",
       "    </tr>\n",
       "    <tr>\n",
       "      <th>3</th>\n",
       "      <td>Joda</td>\n",
       "      <td>US</td>\n",
       "    </tr>\n",
       "  </tbody>\n",
       "</table>\n",
       "</div>"
      ],
      "text/plain": [
       "    name       city\n",
       "1  Pooja  Hyderabad\n",
       "2   Anil      Vizag\n",
       "3   Joda         US"
      ]
     },
     "execution_count": 21,
     "metadata": {},
     "output_type": "execute_result"
    }
   ],
   "source": [
    "# select a subset of rows and columns by label\n",
    "df.loc[1:3, ['name', 'city']]"
   ]
  },
  {
   "cell_type": "code",
   "execution_count": 22,
   "id": "26c2109a",
   "metadata": {},
   "outputs": [
    {
     "data": {
      "text/plain": [
       "name     Raki\n",
       "age        20\n",
       "city    Delhi\n",
       "Name: 0, dtype: object"
      ]
     },
     "execution_count": 22,
     "metadata": {},
     "output_type": "execute_result"
    }
   ],
   "source": [
    "# select a row by integer location\n",
    "df.iloc[0]"
   ]
  },
  {
   "cell_type": "code",
   "execution_count": 23,
   "id": "45c77c0f",
   "metadata": {},
   "outputs": [
    {
     "data": {
      "text/plain": [
       "0     Raki\n",
       "1    Pooja\n",
       "2     Anil\n",
       "3     Joda\n",
       "Name: name, dtype: object"
      ]
     },
     "execution_count": 23,
     "metadata": {},
     "output_type": "execute_result"
    }
   ],
   "source": [
    "# select a column by integer location\n",
    "df.iloc[:, 0]\n"
   ]
  },
  {
   "cell_type": "code",
   "execution_count": 24,
   "id": "285c1152",
   "metadata": {},
   "outputs": [
    {
     "data": {
      "text/html": [
       "<div>\n",
       "<style scoped>\n",
       "    .dataframe tbody tr th:only-of-type {\n",
       "        vertical-align: middle;\n",
       "    }\n",
       "\n",
       "    .dataframe tbody tr th {\n",
       "        vertical-align: top;\n",
       "    }\n",
       "\n",
       "    .dataframe thead th {\n",
       "        text-align: right;\n",
       "    }\n",
       "</style>\n",
       "<table border=\"1\" class=\"dataframe\">\n",
       "  <thead>\n",
       "    <tr style=\"text-align: right;\">\n",
       "      <th></th>\n",
       "      <th>name</th>\n",
       "      <th>city</th>\n",
       "    </tr>\n",
       "  </thead>\n",
       "  <tbody>\n",
       "    <tr>\n",
       "      <th>1</th>\n",
       "      <td>Pooja</td>\n",
       "      <td>Hyderabad</td>\n",
       "    </tr>\n",
       "    <tr>\n",
       "      <th>2</th>\n",
       "      <td>Anil</td>\n",
       "      <td>Vizag</td>\n",
       "    </tr>\n",
       "  </tbody>\n",
       "</table>\n",
       "</div>"
      ],
      "text/plain": [
       "    name       city\n",
       "1  Pooja  Hyderabad\n",
       "2   Anil      Vizag"
      ]
     },
     "execution_count": 24,
     "metadata": {},
     "output_type": "execute_result"
    }
   ],
   "source": [
    "# select a subset of rows and columns by integer location\n",
    "df.iloc[1:3, [0, 2]]"
   ]
  },
  {
   "cell_type": "code",
   "execution_count": 25,
   "id": "86f0d60d",
   "metadata": {},
   "outputs": [
    {
     "data": {
      "text/html": [
       "<div>\n",
       "<style scoped>\n",
       "    .dataframe tbody tr th:only-of-type {\n",
       "        vertical-align: middle;\n",
       "    }\n",
       "\n",
       "    .dataframe tbody tr th {\n",
       "        vertical-align: top;\n",
       "    }\n",
       "\n",
       "    .dataframe thead th {\n",
       "        text-align: right;\n",
       "    }\n",
       "</style>\n",
       "<table border=\"1\" class=\"dataframe\">\n",
       "  <thead>\n",
       "    <tr style=\"text-align: right;\">\n",
       "      <th></th>\n",
       "      <th>age</th>\n",
       "    </tr>\n",
       "  </thead>\n",
       "  <tbody>\n",
       "    <tr>\n",
       "      <th>0</th>\n",
       "      <td>20</td>\n",
       "    </tr>\n",
       "    <tr>\n",
       "      <th>1</th>\n",
       "      <td>21</td>\n",
       "    </tr>\n",
       "    <tr>\n",
       "      <th>2</th>\n",
       "      <td>22</td>\n",
       "    </tr>\n",
       "    <tr>\n",
       "      <th>3</th>\n",
       "      <td>21</td>\n",
       "    </tr>\n",
       "  </tbody>\n",
       "</table>\n",
       "</div>"
      ],
      "text/plain": [
       "   age\n",
       "0   20\n",
       "1   21\n",
       "2   22\n",
       "3   21"
      ]
     },
     "execution_count": 25,
     "metadata": {},
     "output_type": "execute_result"
    }
   ],
   "source": [
    "# Selects a subset of the DataFrame  that includes only the 'age' column.   \n",
    "df[['age']]"
   ]
  },
  {
   "cell_type": "code",
   "execution_count": 26,
   "id": "5d38dd53",
   "metadata": {},
   "outputs": [
    {
     "data": {
      "text/plain": [
       "0        Delhi\n",
       "1    Hyderabad\n",
       "2        Vizag\n",
       "3           US\n",
       "Name: city, dtype: object"
      ]
     },
     "execution_count": 26,
     "metadata": {},
     "output_type": "execute_result"
    }
   ],
   "source": [
    "# selects a column of the DataFrame \n",
    "df['city']"
   ]
  },
  {
   "cell_type": "markdown",
   "id": "8f016557",
   "metadata": {},
   "source": [
    "### Conditional Selection"
   ]
  },
  {
   "cell_type": "code",
   "execution_count": 27,
   "id": "f8a3b1bd",
   "metadata": {},
   "outputs": [
    {
     "data": {
      "text/html": [
       "<div>\n",
       "<style scoped>\n",
       "    .dataframe tbody tr th:only-of-type {\n",
       "        vertical-align: middle;\n",
       "    }\n",
       "\n",
       "    .dataframe tbody tr th {\n",
       "        vertical-align: top;\n",
       "    }\n",
       "\n",
       "    .dataframe thead th {\n",
       "        text-align: right;\n",
       "    }\n",
       "</style>\n",
       "<table border=\"1\" class=\"dataframe\">\n",
       "  <thead>\n",
       "    <tr style=\"text-align: right;\">\n",
       "      <th></th>\n",
       "      <th>name</th>\n",
       "      <th>age</th>\n",
       "      <th>city</th>\n",
       "    </tr>\n",
       "  </thead>\n",
       "  <tbody>\n",
       "    <tr>\n",
       "      <th>2</th>\n",
       "      <td>Anil</td>\n",
       "      <td>22</td>\n",
       "      <td>Vizag</td>\n",
       "    </tr>\n",
       "  </tbody>\n",
       "</table>\n",
       "</div>"
      ],
      "text/plain": [
       "   name  age   city\n",
       "2  Anil   22  Vizag"
      ]
     },
     "execution_count": 27,
     "metadata": {},
     "output_type": "execute_result"
    }
   ],
   "source": [
    "# select rows where age is greater than 21\n",
    "df[df['age'] > 21]"
   ]
  },
  {
   "cell_type": "code",
   "execution_count": 28,
   "id": "571b8da8",
   "metadata": {
    "scrolled": true
   },
   "outputs": [
    {
     "data": {
      "text/html": [
       "<div>\n",
       "<style scoped>\n",
       "    .dataframe tbody tr th:only-of-type {\n",
       "        vertical-align: middle;\n",
       "    }\n",
       "\n",
       "    .dataframe tbody tr th {\n",
       "        vertical-align: top;\n",
       "    }\n",
       "\n",
       "    .dataframe thead th {\n",
       "        text-align: right;\n",
       "    }\n",
       "</style>\n",
       "<table border=\"1\" class=\"dataframe\">\n",
       "  <thead>\n",
       "    <tr style=\"text-align: right;\">\n",
       "      <th></th>\n",
       "      <th>name</th>\n",
       "      <th>age</th>\n",
       "      <th>city</th>\n",
       "    </tr>\n",
       "  </thead>\n",
       "  <tbody>\n",
       "    <tr>\n",
       "      <th>1</th>\n",
       "      <td>Pooja</td>\n",
       "      <td>21</td>\n",
       "      <td>Hyderabad</td>\n",
       "    </tr>\n",
       "  </tbody>\n",
       "</table>\n",
       "</div>"
      ],
      "text/plain": [
       "    name  age       city\n",
       "1  Pooja   21  Hyderabad"
      ]
     },
     "execution_count": 28,
     "metadata": {},
     "output_type": "execute_result"
    }
   ],
   "source": [
    "# select rows where city is Hyderabad\n",
    "df[df['city'] == 'Hyderabad']"
   ]
  },
  {
   "cell_type": "code",
   "execution_count": 29,
   "id": "3b19062d",
   "metadata": {},
   "outputs": [],
   "source": [
    "df_age_gt_21 = df.query('age > 21')"
   ]
  },
  {
   "cell_type": "code",
   "execution_count": 30,
   "id": "47e23243",
   "metadata": {},
   "outputs": [
    {
     "data": {
      "text/html": [
       "<div>\n",
       "<style scoped>\n",
       "    .dataframe tbody tr th:only-of-type {\n",
       "        vertical-align: middle;\n",
       "    }\n",
       "\n",
       "    .dataframe tbody tr th {\n",
       "        vertical-align: top;\n",
       "    }\n",
       "\n",
       "    .dataframe thead th {\n",
       "        text-align: right;\n",
       "    }\n",
       "</style>\n",
       "<table border=\"1\" class=\"dataframe\">\n",
       "  <thead>\n",
       "    <tr style=\"text-align: right;\">\n",
       "      <th></th>\n",
       "      <th>name</th>\n",
       "      <th>age</th>\n",
       "      <th>city</th>\n",
       "    </tr>\n",
       "  </thead>\n",
       "  <tbody>\n",
       "    <tr>\n",
       "      <th>2</th>\n",
       "      <td>Anil</td>\n",
       "      <td>22</td>\n",
       "      <td>Vizag</td>\n",
       "    </tr>\n",
       "  </tbody>\n",
       "</table>\n",
       "</div>"
      ],
      "text/plain": [
       "   name  age   city\n",
       "2  Anil   22  Vizag"
      ]
     },
     "execution_count": 30,
     "metadata": {},
     "output_type": "execute_result"
    }
   ],
   "source": [
    "df_age_gt_21"
   ]
  },
  {
   "cell_type": "markdown",
   "id": "c10d89e2",
   "metadata": {},
   "source": [
    "#### Example:"
   ]
  },
  {
   "cell_type": "code",
   "execution_count": 31,
   "id": "a341e379",
   "metadata": {},
   "outputs": [],
   "source": [
    "# create a multi-index DataFrame\n",
    "import pandas as pd\n",
    "data = {'name': ['Raki', 'Pooja', 'Anil', 'Joda'],\n",
    "        'age': [20, 21, 22, 21],\n",
    "        'city': ['Delhi', 'Hyderabad', 'Vizag', 'US'],\n",
    "        'gender': ['M', 'F', 'M', 'F'],\n",
    "        'score': [85, 90, 92, 87]}\n",
    "dfs = pd.DataFrame(data)\n",
    "df = pd.DataFrame(data)\n",
    "\n",
    "# create a multilevel index based on gender and city\n",
    "df.set_index(['gender', 'city'], inplace=True)"
   ]
  },
  {
   "cell_type": "code",
   "execution_count": 32,
   "id": "22b22fe8",
   "metadata": {
    "scrolled": true
   },
   "outputs": [
    {
     "data": {
      "text/html": [
       "<div>\n",
       "<style scoped>\n",
       "    .dataframe tbody tr th:only-of-type {\n",
       "        vertical-align: middle;\n",
       "    }\n",
       "\n",
       "    .dataframe tbody tr th {\n",
       "        vertical-align: top;\n",
       "    }\n",
       "\n",
       "    .dataframe thead th {\n",
       "        text-align: right;\n",
       "    }\n",
       "</style>\n",
       "<table border=\"1\" class=\"dataframe\">\n",
       "  <thead>\n",
       "    <tr style=\"text-align: right;\">\n",
       "      <th></th>\n",
       "      <th></th>\n",
       "      <th>name</th>\n",
       "      <th>age</th>\n",
       "      <th>score</th>\n",
       "    </tr>\n",
       "    <tr>\n",
       "      <th>gender</th>\n",
       "      <th>city</th>\n",
       "      <th></th>\n",
       "      <th></th>\n",
       "      <th></th>\n",
       "    </tr>\n",
       "  </thead>\n",
       "  <tbody>\n",
       "    <tr>\n",
       "      <th>M</th>\n",
       "      <th>Delhi</th>\n",
       "      <td>Raki</td>\n",
       "      <td>20</td>\n",
       "      <td>85</td>\n",
       "    </tr>\n",
       "    <tr>\n",
       "      <th>F</th>\n",
       "      <th>Hyderabad</th>\n",
       "      <td>Pooja</td>\n",
       "      <td>21</td>\n",
       "      <td>90</td>\n",
       "    </tr>\n",
       "    <tr>\n",
       "      <th>M</th>\n",
       "      <th>Vizag</th>\n",
       "      <td>Anil</td>\n",
       "      <td>22</td>\n",
       "      <td>92</td>\n",
       "    </tr>\n",
       "    <tr>\n",
       "      <th>F</th>\n",
       "      <th>US</th>\n",
       "      <td>Joda</td>\n",
       "      <td>21</td>\n",
       "      <td>87</td>\n",
       "    </tr>\n",
       "  </tbody>\n",
       "</table>\n",
       "</div>"
      ],
      "text/plain": [
       "                   name  age  score\n",
       "gender city                        \n",
       "M      Delhi       Raki   20     85\n",
       "F      Hyderabad  Pooja   21     90\n",
       "M      Vizag       Anil   22     92\n",
       "F      US          Joda   21     87"
      ]
     },
     "execution_count": 32,
     "metadata": {},
     "output_type": "execute_result"
    }
   ],
   "source": [
    "df"
   ]
  },
  {
   "cell_type": "code",
   "execution_count": 33,
   "id": "86bb162b",
   "metadata": {},
   "outputs": [
    {
     "data": {
      "text/plain": [
       "name     Raki\n",
       "age        20\n",
       "score      85\n",
       "Name: (M, Delhi), dtype: object"
      ]
     },
     "execution_count": 33,
     "metadata": {},
     "output_type": "execute_result"
    }
   ],
   "source": [
    "# select rows with gender 'M' and city 'Delhi'\n",
    "# access data using the multilevel index\n",
    "\n",
    "df.loc[('M', 'Delhi'), :]"
   ]
  },
  {
   "cell_type": "code",
   "execution_count": 34,
   "id": "af4bd389",
   "metadata": {},
   "outputs": [
    {
     "data": {
      "text/html": [
       "<div>\n",
       "<style scoped>\n",
       "    .dataframe tbody tr th:only-of-type {\n",
       "        vertical-align: middle;\n",
       "    }\n",
       "\n",
       "    .dataframe tbody tr th {\n",
       "        vertical-align: top;\n",
       "    }\n",
       "\n",
       "    .dataframe thead th {\n",
       "        text-align: right;\n",
       "    }\n",
       "</style>\n",
       "<table border=\"1\" class=\"dataframe\">\n",
       "  <thead>\n",
       "    <tr style=\"text-align: right;\">\n",
       "      <th></th>\n",
       "      <th></th>\n",
       "      <th>name</th>\n",
       "      <th>age</th>\n",
       "      <th>score</th>\n",
       "    </tr>\n",
       "    <tr>\n",
       "      <th>gender</th>\n",
       "      <th>city</th>\n",
       "      <th></th>\n",
       "      <th></th>\n",
       "      <th></th>\n",
       "    </tr>\n",
       "  </thead>\n",
       "  <tbody>\n",
       "    <tr>\n",
       "      <th>F</th>\n",
       "      <th>Hyderabad</th>\n",
       "      <td>Pooja</td>\n",
       "      <td>21</td>\n",
       "      <td>90</td>\n",
       "    </tr>\n",
       "    <tr>\n",
       "      <th>M</th>\n",
       "      <th>Vizag</th>\n",
       "      <td>Anil</td>\n",
       "      <td>22</td>\n",
       "      <td>92</td>\n",
       "    </tr>\n",
       "    <tr>\n",
       "      <th>F</th>\n",
       "      <th>US</th>\n",
       "      <td>Joda</td>\n",
       "      <td>21</td>\n",
       "      <td>87</td>\n",
       "    </tr>\n",
       "  </tbody>\n",
       "</table>\n",
       "</div>"
      ],
      "text/plain": [
       "                   name  age  score\n",
       "gender city                        \n",
       "F      Hyderabad  Pooja   21     90\n",
       "M      Vizag       Anil   22     92\n",
       "F      US          Joda   21     87"
      ]
     },
     "execution_count": 34,
     "metadata": {},
     "output_type": "execute_result"
    }
   ],
   "source": [
    "# select rows with age greater than 20 and score greater than 85\n",
    "df.loc[(df['age'] > 20) & (df['score'] > 85), :]"
   ]
  },
  {
   "cell_type": "code",
   "execution_count": 35,
   "id": "1202aac0",
   "metadata": {},
   "outputs": [
    {
     "data": {
      "text/html": [
       "<div>\n",
       "<style scoped>\n",
       "    .dataframe tbody tr th:only-of-type {\n",
       "        vertical-align: middle;\n",
       "    }\n",
       "\n",
       "    .dataframe tbody tr th {\n",
       "        vertical-align: top;\n",
       "    }\n",
       "\n",
       "    .dataframe thead th {\n",
       "        text-align: right;\n",
       "    }\n",
       "</style>\n",
       "<table border=\"1\" class=\"dataframe\">\n",
       "  <thead>\n",
       "    <tr style=\"text-align: right;\">\n",
       "      <th></th>\n",
       "      <th></th>\n",
       "      <th>name</th>\n",
       "      <th>score</th>\n",
       "    </tr>\n",
       "    <tr>\n",
       "      <th>gender</th>\n",
       "      <th>city</th>\n",
       "      <th></th>\n",
       "      <th></th>\n",
       "    </tr>\n",
       "  </thead>\n",
       "  <tbody>\n",
       "    <tr>\n",
       "      <th>M</th>\n",
       "      <th>Delhi</th>\n",
       "      <td>Raki</td>\n",
       "      <td>85</td>\n",
       "    </tr>\n",
       "    <tr>\n",
       "      <th rowspan=\"2\" valign=\"top\">F</th>\n",
       "      <th>Hyderabad</th>\n",
       "      <td>Pooja</td>\n",
       "      <td>90</td>\n",
       "    </tr>\n",
       "    <tr>\n",
       "      <th>US</th>\n",
       "      <td>Joda</td>\n",
       "      <td>87</td>\n",
       "    </tr>\n",
       "  </tbody>\n",
       "</table>\n",
       "</div>"
      ],
      "text/plain": [
       "                   name  score\n",
       "gender city                   \n",
       "M      Delhi       Raki     85\n",
       "F      Hyderabad  Pooja     90\n",
       "       US          Joda     87"
      ]
     },
     "execution_count": 35,
     "metadata": {},
     "output_type": "execute_result"
    }
   ],
   "source": [
    "# select the 'name' and 'score' columns for rows with age less than 22\n",
    "df.loc[df['age'] < 22, ['name', 'score']]"
   ]
  },
  {
   "cell_type": "code",
   "execution_count": 36,
   "id": "9dbfee22",
   "metadata": {},
   "outputs": [
    {
     "data": {
      "text/html": [
       "<div>\n",
       "<style scoped>\n",
       "    .dataframe tbody tr th:only-of-type {\n",
       "        vertical-align: middle;\n",
       "    }\n",
       "\n",
       "    .dataframe tbody tr th {\n",
       "        vertical-align: top;\n",
       "    }\n",
       "\n",
       "    .dataframe thead th {\n",
       "        text-align: right;\n",
       "    }\n",
       "</style>\n",
       "<table border=\"1\" class=\"dataframe\">\n",
       "  <thead>\n",
       "    <tr style=\"text-align: right;\">\n",
       "      <th></th>\n",
       "      <th></th>\n",
       "      <th>name</th>\n",
       "      <th>age</th>\n",
       "      <th>score</th>\n",
       "    </tr>\n",
       "    <tr>\n",
       "      <th>gender</th>\n",
       "      <th>city</th>\n",
       "      <th></th>\n",
       "      <th></th>\n",
       "      <th></th>\n",
       "    </tr>\n",
       "  </thead>\n",
       "  <tbody>\n",
       "    <tr>\n",
       "      <th>M</th>\n",
       "      <th>Delhi</th>\n",
       "      <td>Raki</td>\n",
       "      <td>20</td>\n",
       "      <td>85</td>\n",
       "    </tr>\n",
       "    <tr>\n",
       "      <th rowspan=\"2\" valign=\"top\">F</th>\n",
       "      <th>Hyderabad</th>\n",
       "      <td>Pooja</td>\n",
       "      <td>21</td>\n",
       "      <td>90</td>\n",
       "    </tr>\n",
       "    <tr>\n",
       "      <th>US</th>\n",
       "      <td>Joda</td>\n",
       "      <td>21</td>\n",
       "      <td>87</td>\n",
       "    </tr>\n",
       "  </tbody>\n",
       "</table>\n",
       "</div>"
      ],
      "text/plain": [
       "                   name  age  score\n",
       "gender city                        \n",
       "M      Delhi       Raki   20     85\n",
       "F      Hyderabad  Pooja   21     90\n",
       "       US          Joda   21     87"
      ]
     },
     "execution_count": 36,
     "metadata": {},
     "output_type": "execute_result"
    }
   ],
   "source": [
    "# select rows where the 'name' column contains the letter 'a'\n",
    "df[df['name'].str.contains('a')]"
   ]
  },
  {
   "cell_type": "code",
   "execution_count": 37,
   "id": "ff094d63",
   "metadata": {
    "scrolled": true
   },
   "outputs": [
    {
     "data": {
      "text/html": [
       "<div>\n",
       "<style scoped>\n",
       "    .dataframe tbody tr th:only-of-type {\n",
       "        vertical-align: middle;\n",
       "    }\n",
       "\n",
       "    .dataframe tbody tr th {\n",
       "        vertical-align: top;\n",
       "    }\n",
       "\n",
       "    .dataframe thead th {\n",
       "        text-align: right;\n",
       "    }\n",
       "</style>\n",
       "<table border=\"1\" class=\"dataframe\">\n",
       "  <thead>\n",
       "    <tr style=\"text-align: right;\">\n",
       "      <th></th>\n",
       "      <th></th>\n",
       "      <th>name</th>\n",
       "      <th>age</th>\n",
       "      <th>score</th>\n",
       "    </tr>\n",
       "    <tr>\n",
       "      <th>gender</th>\n",
       "      <th>city</th>\n",
       "      <th></th>\n",
       "      <th></th>\n",
       "      <th></th>\n",
       "    </tr>\n",
       "  </thead>\n",
       "  <tbody>\n",
       "    <tr>\n",
       "      <th rowspan=\"2\" valign=\"top\">F</th>\n",
       "      <th>Hyderabad</th>\n",
       "      <td>Pooja</td>\n",
       "      <td>21</td>\n",
       "      <td>90</td>\n",
       "    </tr>\n",
       "    <tr>\n",
       "      <th>US</th>\n",
       "      <td>Joda</td>\n",
       "      <td>21</td>\n",
       "      <td>87</td>\n",
       "    </tr>\n",
       "  </tbody>\n",
       "</table>\n",
       "</div>"
      ],
      "text/plain": [
       "                   name  age  score\n",
       "gender city                        \n",
       "F      Hyderabad  Pooja   21     90\n",
       "       US          Joda   21     87"
      ]
     },
     "execution_count": 37,
     "metadata": {},
     "output_type": "execute_result"
    }
   ],
   "source": [
    "# select rows where the 'name' column ends with the letter 'a'\n",
    "df[df['name'].str.endswith('a')]"
   ]
  },
  {
   "cell_type": "code",
   "execution_count": 38,
   "id": "42ea01bd",
   "metadata": {},
   "outputs": [
    {
     "data": {
      "text/plain": [
       "Index(['name', 'age', 'score'], dtype='object')"
      ]
     },
     "execution_count": 38,
     "metadata": {},
     "output_type": "execute_result"
    }
   ],
   "source": [
    "#DataFrame.columns attribute to see a list of all the column names in DataFrame\n",
    "df.columns"
   ]
  },
  {
   "cell_type": "code",
   "execution_count": 39,
   "id": "e6814d66",
   "metadata": {},
   "outputs": [],
   "source": [
    "# select the 'name' column where the 'city' column is 'Delhi'\n",
    "dfs_delhi_names = dfs.loc[dfs['city'] == 'Delhi', 'name']"
   ]
  },
  {
   "cell_type": "code",
   "execution_count": 40,
   "id": "a238e746",
   "metadata": {},
   "outputs": [
    {
     "data": {
      "text/plain": [
       "0    Raki\n",
       "Name: name, dtype: object"
      ]
     },
     "execution_count": 40,
     "metadata": {},
     "output_type": "execute_result"
    }
   ],
   "source": [
    "dfs_delhi_names"
   ]
  },
  {
   "cell_type": "code",
   "execution_count": 41,
   "id": "2325f4d9",
   "metadata": {
    "scrolled": true
   },
   "outputs": [],
   "source": [
    "## select the 'name' and 'age' columns where the 'city' column is 'Delhi'\n",
    "dfs_delhi_names_ages = dfs.loc[dfs['city'] == 'Delhi', ['name', 'age']]"
   ]
  },
  {
   "cell_type": "code",
   "execution_count": 42,
   "id": "b22c7364",
   "metadata": {},
   "outputs": [
    {
     "data": {
      "text/html": [
       "<div>\n",
       "<style scoped>\n",
       "    .dataframe tbody tr th:only-of-type {\n",
       "        vertical-align: middle;\n",
       "    }\n",
       "\n",
       "    .dataframe tbody tr th {\n",
       "        vertical-align: top;\n",
       "    }\n",
       "\n",
       "    .dataframe thead th {\n",
       "        text-align: right;\n",
       "    }\n",
       "</style>\n",
       "<table border=\"1\" class=\"dataframe\">\n",
       "  <thead>\n",
       "    <tr style=\"text-align: right;\">\n",
       "      <th></th>\n",
       "      <th>name</th>\n",
       "      <th>age</th>\n",
       "    </tr>\n",
       "  </thead>\n",
       "  <tbody>\n",
       "    <tr>\n",
       "      <th>0</th>\n",
       "      <td>Raki</td>\n",
       "      <td>20</td>\n",
       "    </tr>\n",
       "  </tbody>\n",
       "</table>\n",
       "</div>"
      ],
      "text/plain": [
       "   name  age\n",
       "0  Raki   20"
      ]
     },
     "execution_count": 42,
     "metadata": {},
     "output_type": "execute_result"
    }
   ],
   "source": [
    "dfs_delhi_names_ages"
   ]
  },
  {
   "cell_type": "code",
   "execution_count": 43,
   "id": "809d8e60",
   "metadata": {},
   "outputs": [],
   "source": [
    "#insert a new column called 'city' at index 2 (i.e., the third column) with the specified values.\n",
    "df.insert(loc=2, column='color', value=['Fair', 'White', 'Black', 'Brown'])"
   ]
  },
  {
   "cell_type": "code",
   "execution_count": 44,
   "id": "48190849",
   "metadata": {},
   "outputs": [
    {
     "data": {
      "text/html": [
       "<div>\n",
       "<style scoped>\n",
       "    .dataframe tbody tr th:only-of-type {\n",
       "        vertical-align: middle;\n",
       "    }\n",
       "\n",
       "    .dataframe tbody tr th {\n",
       "        vertical-align: top;\n",
       "    }\n",
       "\n",
       "    .dataframe thead th {\n",
       "        text-align: right;\n",
       "    }\n",
       "</style>\n",
       "<table border=\"1\" class=\"dataframe\">\n",
       "  <thead>\n",
       "    <tr style=\"text-align: right;\">\n",
       "      <th></th>\n",
       "      <th></th>\n",
       "      <th>name</th>\n",
       "      <th>age</th>\n",
       "      <th>color</th>\n",
       "      <th>score</th>\n",
       "    </tr>\n",
       "    <tr>\n",
       "      <th>gender</th>\n",
       "      <th>city</th>\n",
       "      <th></th>\n",
       "      <th></th>\n",
       "      <th></th>\n",
       "      <th></th>\n",
       "    </tr>\n",
       "  </thead>\n",
       "  <tbody>\n",
       "    <tr>\n",
       "      <th>M</th>\n",
       "      <th>Delhi</th>\n",
       "      <td>Raki</td>\n",
       "      <td>20</td>\n",
       "      <td>Fair</td>\n",
       "      <td>85</td>\n",
       "    </tr>\n",
       "    <tr>\n",
       "      <th>F</th>\n",
       "      <th>Hyderabad</th>\n",
       "      <td>Pooja</td>\n",
       "      <td>21</td>\n",
       "      <td>White</td>\n",
       "      <td>90</td>\n",
       "    </tr>\n",
       "    <tr>\n",
       "      <th>M</th>\n",
       "      <th>Vizag</th>\n",
       "      <td>Anil</td>\n",
       "      <td>22</td>\n",
       "      <td>Black</td>\n",
       "      <td>92</td>\n",
       "    </tr>\n",
       "    <tr>\n",
       "      <th>F</th>\n",
       "      <th>US</th>\n",
       "      <td>Joda</td>\n",
       "      <td>21</td>\n",
       "      <td>Brown</td>\n",
       "      <td>87</td>\n",
       "    </tr>\n",
       "  </tbody>\n",
       "</table>\n",
       "</div>"
      ],
      "text/plain": [
       "                   name  age  color  score\n",
       "gender city                               \n",
       "M      Delhi       Raki   20   Fair     85\n",
       "F      Hyderabad  Pooja   21  White     90\n",
       "M      Vizag       Anil   22  Black     92\n",
       "F      US          Joda   21  Brown     87"
      ]
     },
     "execution_count": 44,
     "metadata": {},
     "output_type": "execute_result"
    }
   ],
   "source": [
    "df"
   ]
  },
  {
   "cell_type": "markdown",
   "id": "b18895e8",
   "metadata": {},
   "source": [
    "## multiple condition"
   ]
  },
  {
   "cell_type": "markdown",
   "id": "1547bb53",
   "metadata": {},
   "source": [
    "#### use the & operator for 'and' and | operator for 'or'"
   ]
  },
  {
   "cell_type": "code",
   "execution_count": 45,
   "id": "89c01d8b",
   "metadata": {},
   "outputs": [
    {
     "name": "stdout",
     "output_type": "stream",
     "text": [
      "   name  age   city gender  score\n",
      "2  Anil   22  Vizag      M     92\n"
     ]
    }
   ],
   "source": [
    "# filter based on multiple conditions\n",
    "filtered_df = dfs[(dfs['age'] >= 21) & (dfs['gender'] == 'M')]\n",
    "\n",
    "print(filtered_df)"
   ]
  },
  {
   "cell_type": "markdown",
   "id": "a6f5b320",
   "metadata": {},
   "source": [
    "## Built-in methods"
   ]
  },
  {
   "cell_type": "markdown",
   "id": "f4162a07",
   "metadata": {},
   "source": [
    "Cross section function in pandas is used to extract a subset of rows or columns from a hierarchical dataframe, based on one or more labels in the index or column axis."
   ]
  },
  {
   "cell_type": "code",
   "execution_count": 46,
   "id": "2e35e312",
   "metadata": {
    "scrolled": false
   },
   "outputs": [
    {
     "name": "stdout",
     "output_type": "stream",
     "text": [
      "       name  age  color  score\n",
      "city                          \n",
      "Delhi  Raki   20   Fair     85\n",
      "Vizag  Anil   22  Black     92\n"
     ]
    }
   ],
   "source": [
    "# extract all rows with gender M\n",
    "print(df.xs('M', level='gender'))"
   ]
  },
  {
   "cell_type": "markdown",
   "id": "79cd8478",
   "metadata": {},
   "source": [
    "the xs() function is used to extract all rows with gender M, regardless of city. The level='Gender' argument is used to specify the level of the hierarchical index that the cross section should be taken from."
   ]
  },
  {
   "cell_type": "markdown",
   "id": "08cd26e9",
   "metadata": {},
   "source": [
    "### Missing data"
   ]
  },
  {
   "cell_type": "markdown",
   "id": "d5e3315c",
   "metadata": {},
   "source": [
    "__In pandas, missing data is represented by the NaN (Not a Number) value. Pandas provides several functions and methods for handling missing data in a dataframe.__"
   ]
  },
  {
   "cell_type": "markdown",
   "id": "ca355fdd",
   "metadata": {},
   "source": [
    "### Dropping missing data:\n",
    "\n",
    "You can drop missing data using the dropna() method. This method removes any rows or columns that contain missing values. \n",
    "\n",
    "#### Example:"
   ]
  },
  {
   "cell_type": "code",
   "execution_count": 47,
   "id": "1b7ee995",
   "metadata": {},
   "outputs": [],
   "source": [
    "import pandas as pd\n",
    "\n",
    "data = {'name': ['Rohan', 'Sara', 'Meena', 'Loki'],\n",
    "        'age': [25, 32, None, 45],\n",
    "        'gender': ['M', 'F', 'F', 'M'],\n",
    "        'salary': [50000, None, 35000, 90000]}\n",
    "        \n",
    "df = pd.DataFrame(data)\n",
    "\n",
    "# drop any rows that contain missing values\n",
    "df = df.dropna()\n"
   ]
  },
  {
   "cell_type": "code",
   "execution_count": 48,
   "id": "baddf66e",
   "metadata": {},
   "outputs": [
    {
     "data": {
      "text/html": [
       "<div>\n",
       "<style scoped>\n",
       "    .dataframe tbody tr th:only-of-type {\n",
       "        vertical-align: middle;\n",
       "    }\n",
       "\n",
       "    .dataframe tbody tr th {\n",
       "        vertical-align: top;\n",
       "    }\n",
       "\n",
       "    .dataframe thead th {\n",
       "        text-align: right;\n",
       "    }\n",
       "</style>\n",
       "<table border=\"1\" class=\"dataframe\">\n",
       "  <thead>\n",
       "    <tr style=\"text-align: right;\">\n",
       "      <th></th>\n",
       "      <th>name</th>\n",
       "      <th>age</th>\n",
       "      <th>gender</th>\n",
       "      <th>salary</th>\n",
       "    </tr>\n",
       "  </thead>\n",
       "  <tbody>\n",
       "    <tr>\n",
       "      <th>0</th>\n",
       "      <td>Rohan</td>\n",
       "      <td>25.0</td>\n",
       "      <td>M</td>\n",
       "      <td>50000.0</td>\n",
       "    </tr>\n",
       "    <tr>\n",
       "      <th>3</th>\n",
       "      <td>Loki</td>\n",
       "      <td>45.0</td>\n",
       "      <td>M</td>\n",
       "      <td>90000.0</td>\n",
       "    </tr>\n",
       "  </tbody>\n",
       "</table>\n",
       "</div>"
      ],
      "text/plain": [
       "    name   age gender   salary\n",
       "0  Rohan  25.0      M  50000.0\n",
       "3   Loki  45.0      M  90000.0"
      ]
     },
     "execution_count": 48,
     "metadata": {},
     "output_type": "execute_result"
    }
   ],
   "source": [
    "df"
   ]
  },
  {
   "cell_type": "markdown",
   "id": "16aa0bba",
   "metadata": {},
   "source": [
    "### Filling missing data:\n",
    "You can fill missing data using the fillna() method. This method replaces any missing values with a specified value or using a specified method such as forward filling or backward filling. \n",
    "\n",
    "#### example:"
   ]
  },
  {
   "cell_type": "code",
   "execution_count": 49,
   "id": "d6d17793",
   "metadata": {},
   "outputs": [],
   "source": [
    "import pandas as pd\n",
    "\n",
    "data = {'name': ['Rohan', 'Sara', 'Meena', 'Loki'],\n",
    "        'age': [25, 32, None, 45],\n",
    "        'gender': ['M', 'F', 'F', 'M'],\n",
    "        'salary': [50000, None, 35000, 90000]}\n",
    "        \n",
    "df = pd.DataFrame(data)\n",
    "\n",
    "# fill missing values with a specific value\n",
    "df = df.fillna(value=0)\n",
    "\n",
    "# fill missing values using forward filling\n",
    "df = df.fillna(method='ffill')\n"
   ]
  },
  {
   "cell_type": "code",
   "execution_count": 50,
   "id": "4c9f1e7d",
   "metadata": {},
   "outputs": [
    {
     "data": {
      "text/html": [
       "<div>\n",
       "<style scoped>\n",
       "    .dataframe tbody tr th:only-of-type {\n",
       "        vertical-align: middle;\n",
       "    }\n",
       "\n",
       "    .dataframe tbody tr th {\n",
       "        vertical-align: top;\n",
       "    }\n",
       "\n",
       "    .dataframe thead th {\n",
       "        text-align: right;\n",
       "    }\n",
       "</style>\n",
       "<table border=\"1\" class=\"dataframe\">\n",
       "  <thead>\n",
       "    <tr style=\"text-align: right;\">\n",
       "      <th></th>\n",
       "      <th>name</th>\n",
       "      <th>age</th>\n",
       "      <th>gender</th>\n",
       "      <th>salary</th>\n",
       "    </tr>\n",
       "  </thead>\n",
       "  <tbody>\n",
       "    <tr>\n",
       "      <th>0</th>\n",
       "      <td>Rohan</td>\n",
       "      <td>25.0</td>\n",
       "      <td>M</td>\n",
       "      <td>50000.0</td>\n",
       "    </tr>\n",
       "    <tr>\n",
       "      <th>1</th>\n",
       "      <td>Sara</td>\n",
       "      <td>32.0</td>\n",
       "      <td>F</td>\n",
       "      <td>0.0</td>\n",
       "    </tr>\n",
       "    <tr>\n",
       "      <th>2</th>\n",
       "      <td>Meena</td>\n",
       "      <td>0.0</td>\n",
       "      <td>F</td>\n",
       "      <td>35000.0</td>\n",
       "    </tr>\n",
       "    <tr>\n",
       "      <th>3</th>\n",
       "      <td>Loki</td>\n",
       "      <td>45.0</td>\n",
       "      <td>M</td>\n",
       "      <td>90000.0</td>\n",
       "    </tr>\n",
       "  </tbody>\n",
       "</table>\n",
       "</div>"
      ],
      "text/plain": [
       "    name   age gender   salary\n",
       "0  Rohan  25.0      M  50000.0\n",
       "1   Sara  32.0      F      0.0\n",
       "2  Meena   0.0      F  35000.0\n",
       "3   Loki  45.0      M  90000.0"
      ]
     },
     "execution_count": 50,
     "metadata": {},
     "output_type": "execute_result"
    }
   ],
   "source": [
    "df"
   ]
  },
  {
   "cell_type": "markdown",
   "id": "e0b44834",
   "metadata": {},
   "source": [
    "### Interpolating missing data: \n",
    "\n",
    "You can interpolate missing data using the interpolate() method. This method fills in missing values by using a linear interpolation between the values before and after the missing value. \n",
    "\n",
    "#### example:"
   ]
  },
  {
   "cell_type": "code",
   "execution_count": 51,
   "id": "a3a7fa99",
   "metadata": {},
   "outputs": [],
   "source": [
    "import pandas as pd\n",
    "\n",
    "data = {'name': ['Rohan', 'Sara', 'Meena', 'Loki'],\n",
    "        'age': [25, 32, None, 45],\n",
    "        'gender': ['M', 'F', 'F', 'M'],\n",
    "        'salary': [50000, None, 35000, 90000]}\n",
    "        \n",
    "df = pd.DataFrame(data)\n",
    "\n",
    "# interpolate missing values\n",
    "df = df.interpolate()\n"
   ]
  },
  {
   "cell_type": "code",
   "execution_count": 52,
   "id": "50ab689e",
   "metadata": {},
   "outputs": [
    {
     "data": {
      "text/html": [
       "<div>\n",
       "<style scoped>\n",
       "    .dataframe tbody tr th:only-of-type {\n",
       "        vertical-align: middle;\n",
       "    }\n",
       "\n",
       "    .dataframe tbody tr th {\n",
       "        vertical-align: top;\n",
       "    }\n",
       "\n",
       "    .dataframe thead th {\n",
       "        text-align: right;\n",
       "    }\n",
       "</style>\n",
       "<table border=\"1\" class=\"dataframe\">\n",
       "  <thead>\n",
       "    <tr style=\"text-align: right;\">\n",
       "      <th></th>\n",
       "      <th>name</th>\n",
       "      <th>age</th>\n",
       "      <th>gender</th>\n",
       "      <th>salary</th>\n",
       "    </tr>\n",
       "  </thead>\n",
       "  <tbody>\n",
       "    <tr>\n",
       "      <th>0</th>\n",
       "      <td>Rohan</td>\n",
       "      <td>25.0</td>\n",
       "      <td>M</td>\n",
       "      <td>50000.0</td>\n",
       "    </tr>\n",
       "    <tr>\n",
       "      <th>1</th>\n",
       "      <td>Sara</td>\n",
       "      <td>32.0</td>\n",
       "      <td>F</td>\n",
       "      <td>42500.0</td>\n",
       "    </tr>\n",
       "    <tr>\n",
       "      <th>2</th>\n",
       "      <td>Meena</td>\n",
       "      <td>38.5</td>\n",
       "      <td>F</td>\n",
       "      <td>35000.0</td>\n",
       "    </tr>\n",
       "    <tr>\n",
       "      <th>3</th>\n",
       "      <td>Loki</td>\n",
       "      <td>45.0</td>\n",
       "      <td>M</td>\n",
       "      <td>90000.0</td>\n",
       "    </tr>\n",
       "  </tbody>\n",
       "</table>\n",
       "</div>"
      ],
      "text/plain": [
       "    name   age gender   salary\n",
       "0  Rohan  25.0      M  50000.0\n",
       "1   Sara  32.0      F  42500.0\n",
       "2  Meena  38.5      F  35000.0\n",
       "3   Loki  45.0      M  90000.0"
      ]
     },
     "execution_count": 52,
     "metadata": {},
     "output_type": "execute_result"
    }
   ],
   "source": [
    "df"
   ]
  },
  {
   "cell_type": "markdown",
   "id": "33db50dc",
   "metadata": {},
   "source": [
    "## Groupby"
   ]
  },
  {
   "cell_type": "markdown",
   "id": "d7ca5d9e",
   "metadata": {},
   "source": [
    "groupby is a powerful and versatile function in pandas that allows you to group data in a DataFrame based on the values of one or more columns. Once the data is grouped, you can perform various aggregate functions on it, such as mean, sum, count, etc."
   ]
  },
  {
   "cell_type": "code",
   "execution_count": 53,
   "id": "d88a4881",
   "metadata": {},
   "outputs": [
    {
     "name": "stdout",
     "output_type": "stream",
     "text": [
      "        salary\n",
      "name          \n",
      "Loki   47500.0\n",
      "Pooja  57500.0\n",
      "Raki   67500.0\n"
     ]
    }
   ],
   "source": [
    "import pandas as pd\n",
    "\n",
    "# create a sample DataFrame\n",
    "data = {\n",
    "    'name': ['Loki', 'Pooja', 'Raki', 'Loki', 'Pooja', 'Raki'],\n",
    "    'age': [25, 30, 35, 20, 25, 30],\n",
    "    'salary': [50000, 60000, 70000, 45000, 55000, 65000]\n",
    "}\n",
    "\n",
    "df = pd.DataFrame(data)\n",
    "\n",
    "# group the data by name and calculate the mean salary for each group\n",
    "mean_salary_by_name = df.groupby('name').agg({'salary': 'mean'})\n",
    "\n",
    "print(mean_salary_by_name)\n",
    "\n"
   ]
  },
  {
   "cell_type": "code",
   "execution_count": 54,
   "id": "21075be1",
   "metadata": {},
   "outputs": [
    {
     "data": {
      "text/html": [
       "<div>\n",
       "<style scoped>\n",
       "    .dataframe tbody tr th:only-of-type {\n",
       "        vertical-align: middle;\n",
       "    }\n",
       "\n",
       "    .dataframe tbody tr th {\n",
       "        vertical-align: top;\n",
       "    }\n",
       "\n",
       "    .dataframe thead tr th {\n",
       "        text-align: left;\n",
       "    }\n",
       "\n",
       "    .dataframe thead tr:last-of-type th {\n",
       "        text-align: right;\n",
       "    }\n",
       "</style>\n",
       "<table border=\"1\" class=\"dataframe\">\n",
       "  <thead>\n",
       "    <tr>\n",
       "      <th></th>\n",
       "      <th colspan=\"8\" halign=\"left\">age</th>\n",
       "      <th colspan=\"8\" halign=\"left\">salary</th>\n",
       "    </tr>\n",
       "    <tr>\n",
       "      <th></th>\n",
       "      <th>count</th>\n",
       "      <th>mean</th>\n",
       "      <th>std</th>\n",
       "      <th>min</th>\n",
       "      <th>25%</th>\n",
       "      <th>50%</th>\n",
       "      <th>75%</th>\n",
       "      <th>max</th>\n",
       "      <th>count</th>\n",
       "      <th>mean</th>\n",
       "      <th>std</th>\n",
       "      <th>min</th>\n",
       "      <th>25%</th>\n",
       "      <th>50%</th>\n",
       "      <th>75%</th>\n",
       "      <th>max</th>\n",
       "    </tr>\n",
       "    <tr>\n",
       "      <th>name</th>\n",
       "      <th></th>\n",
       "      <th></th>\n",
       "      <th></th>\n",
       "      <th></th>\n",
       "      <th></th>\n",
       "      <th></th>\n",
       "      <th></th>\n",
       "      <th></th>\n",
       "      <th></th>\n",
       "      <th></th>\n",
       "      <th></th>\n",
       "      <th></th>\n",
       "      <th></th>\n",
       "      <th></th>\n",
       "      <th></th>\n",
       "      <th></th>\n",
       "    </tr>\n",
       "  </thead>\n",
       "  <tbody>\n",
       "    <tr>\n",
       "      <th>Loki</th>\n",
       "      <td>2.0</td>\n",
       "      <td>22.5</td>\n",
       "      <td>3.535534</td>\n",
       "      <td>20.0</td>\n",
       "      <td>21.25</td>\n",
       "      <td>22.5</td>\n",
       "      <td>23.75</td>\n",
       "      <td>25.0</td>\n",
       "      <td>2.0</td>\n",
       "      <td>47500.0</td>\n",
       "      <td>3535.533906</td>\n",
       "      <td>45000.0</td>\n",
       "      <td>46250.0</td>\n",
       "      <td>47500.0</td>\n",
       "      <td>48750.0</td>\n",
       "      <td>50000.0</td>\n",
       "    </tr>\n",
       "    <tr>\n",
       "      <th>Pooja</th>\n",
       "      <td>2.0</td>\n",
       "      <td>27.5</td>\n",
       "      <td>3.535534</td>\n",
       "      <td>25.0</td>\n",
       "      <td>26.25</td>\n",
       "      <td>27.5</td>\n",
       "      <td>28.75</td>\n",
       "      <td>30.0</td>\n",
       "      <td>2.0</td>\n",
       "      <td>57500.0</td>\n",
       "      <td>3535.533906</td>\n",
       "      <td>55000.0</td>\n",
       "      <td>56250.0</td>\n",
       "      <td>57500.0</td>\n",
       "      <td>58750.0</td>\n",
       "      <td>60000.0</td>\n",
       "    </tr>\n",
       "    <tr>\n",
       "      <th>Raki</th>\n",
       "      <td>2.0</td>\n",
       "      <td>32.5</td>\n",
       "      <td>3.535534</td>\n",
       "      <td>30.0</td>\n",
       "      <td>31.25</td>\n",
       "      <td>32.5</td>\n",
       "      <td>33.75</td>\n",
       "      <td>35.0</td>\n",
       "      <td>2.0</td>\n",
       "      <td>67500.0</td>\n",
       "      <td>3535.533906</td>\n",
       "      <td>65000.0</td>\n",
       "      <td>66250.0</td>\n",
       "      <td>67500.0</td>\n",
       "      <td>68750.0</td>\n",
       "      <td>70000.0</td>\n",
       "    </tr>\n",
       "  </tbody>\n",
       "</table>\n",
       "</div>"
      ],
      "text/plain": [
       "        age                                                 salary           \\\n",
       "      count  mean       std   min    25%   50%    75%   max  count     mean   \n",
       "name                                                                          \n",
       "Loki    2.0  22.5  3.535534  20.0  21.25  22.5  23.75  25.0    2.0  47500.0   \n",
       "Pooja   2.0  27.5  3.535534  25.0  26.25  27.5  28.75  30.0    2.0  57500.0   \n",
       "Raki    2.0  32.5  3.535534  30.0  31.25  32.5  33.75  35.0    2.0  67500.0   \n",
       "\n",
       "                                                                 \n",
       "               std      min      25%      50%      75%      max  \n",
       "name                                                             \n",
       "Loki   3535.533906  45000.0  46250.0  47500.0  48750.0  50000.0  \n",
       "Pooja  3535.533906  55000.0  56250.0  57500.0  58750.0  60000.0  \n",
       "Raki   3535.533906  65000.0  66250.0  67500.0  68750.0  70000.0  "
      ]
     },
     "execution_count": 54,
     "metadata": {},
     "output_type": "execute_result"
    }
   ],
   "source": [
    "df.groupby('name').describe()"
   ]
  },
  {
   "cell_type": "code",
   "execution_count": 55,
   "id": "bc9b3e20",
   "metadata": {},
   "outputs": [
    {
     "data": {
      "text/plain": [
       "age     count        2.000000\n",
       "        mean        22.500000\n",
       "        std          3.535534\n",
       "        min         20.000000\n",
       "        25%         21.250000\n",
       "        50%         22.500000\n",
       "        75%         23.750000\n",
       "        max         25.000000\n",
       "salary  count        2.000000\n",
       "        mean     47500.000000\n",
       "        std       3535.533906\n",
       "        min      45000.000000\n",
       "        25%      46250.000000\n",
       "        50%      47500.000000\n",
       "        75%      48750.000000\n",
       "        max      50000.000000\n",
       "Name: Loki, dtype: float64"
      ]
     },
     "execution_count": 55,
     "metadata": {},
     "output_type": "execute_result"
    }
   ],
   "source": [
    "df.groupby('name').describe().transpose()['Loki']"
   ]
  },
  {
   "cell_type": "markdown",
   "id": "13bcc386",
   "metadata": {},
   "source": [
    "## Merging ,joining and Concatenating"
   ]
  },
  {
   "cell_type": "markdown",
   "id": "f593e362",
   "metadata": {},
   "source": [
    "Merging is used to combine data based on the values of one or more common columns. It is similar to a SQL join operation.\n",
    "\n",
    "### Merging"
   ]
  },
  {
   "cell_type": "code",
   "execution_count": 56,
   "id": "c3ec2c6d",
   "metadata": {},
   "outputs": [
    {
     "name": "stdout",
     "output_type": "stream",
     "text": [
      "  key  value_x  value_y\n",
      "0   B        2        5\n",
      "1   D        4        6\n"
     ]
    }
   ],
   "source": [
    "import pandas as pd\n",
    "\n",
    "# create two sample dataframes to merge\n",
    "df1 = pd.DataFrame({'key': ['A', 'B', 'C', 'D'],\n",
    "                    'value': [1, 2, 3, 4]})\n",
    "df2 = pd.DataFrame({'key': ['B', 'D', 'E', 'F'],\n",
    "                    'value': [5, 6, 7, 8]})\n",
    "\n",
    "# merge the dataframes on the 'key' column\n",
    "merged_df = pd.merge(df1, df2, on='key')\n",
    "\n",
    "print(merged_df)"
   ]
  },
  {
   "cell_type": "markdown",
   "id": "47e4a748",
   "metadata": {},
   "source": [
    "### Joining"
   ]
  },
  {
   "cell_type": "markdown",
   "id": "efa6926f",
   "metadata": {},
   "source": [
    "Joining is similar to merging but it is used to combine data based on the index instead of the values of one or more common columns.\n",
    "#### Example"
   ]
  },
  {
   "cell_type": "code",
   "execution_count": 57,
   "id": "99d47261",
   "metadata": {},
   "outputs": [
    {
     "name": "stdout",
     "output_type": "stream",
     "text": [
      "   value_df1  value_df2\n",
      "B          2          5\n",
      "D          4          6\n"
     ]
    }
   ],
   "source": [
    "import pandas as pd\n",
    "\n",
    "# create two sample dataframes to join\n",
    "df1 = pd.DataFrame({'value': [1, 2, 3, 4]},\n",
    "                   index=['A', 'B', 'C', 'D'])\n",
    "\n",
    "df2 = pd.DataFrame({'value': [5, 6, 7, 8]},\n",
    "                   index=['B', 'D', 'E', 'F'])\n",
    "\n",
    "# add suffixes to overlapping column names\n",
    "df1 = df1.add_suffix('_df1')\n",
    "df2 = df2.add_suffix('_df2')\n",
    "\n",
    "# join the dataframes on their indexes\n",
    "joined_df = df1.join(df2, how='inner')\n",
    "\n",
    "print(joined_df)\n",
    "\n"
   ]
  },
  {
   "cell_type": "markdown",
   "id": "610ff21f",
   "metadata": {},
   "source": [
    "### Concatenating "
   ]
  },
  {
   "cell_type": "markdown",
   "id": "664d0d77",
   "metadata": {},
   "source": [
    "Concatenating is used to combine data from different sources into a single dataframe. It is useful when you have data in separate files or in separate parts of the same file.\n",
    "#### Example"
   ]
  },
  {
   "cell_type": "code",
   "execution_count": 58,
   "id": "91c6f824",
   "metadata": {},
   "outputs": [
    {
     "name": "stdout",
     "output_type": "stream",
     "text": [
      "   value\n",
      "0      1\n",
      "1      2\n",
      "2      3\n",
      "0      4\n",
      "1      5\n",
      "2      6\n"
     ]
    }
   ],
   "source": [
    "import pandas as pd\n",
    "\n",
    "# create two sample dataframes to concatenate\n",
    "df1 = pd.DataFrame({'value': [1, 2, 3]})\n",
    "df2 = pd.DataFrame({'value': [4, 5, 6]})\n",
    "\n",
    "# concatenate the dataframes vertically\n",
    "concatenated_df = pd.concat([df1, df2])\n",
    "\n",
    "print(concatenated_df)\n"
   ]
  },
  {
   "cell_type": "markdown",
   "id": "f86950a8",
   "metadata": {},
   "source": [
    "## Apply"
   ]
  },
  {
   "cell_type": "markdown",
   "id": "5e2c3b27",
   "metadata": {},
   "source": [
    "The apply() method in pandas is used to apply a function along an axis of the DataFrame. It can be used to apply a predefined function or a user-defined function to each row or column of the DataFrame."
   ]
  },
  {
   "cell_type": "markdown",
   "id": "d8dd5f6a",
   "metadata": {},
   "source": [
    "#### Example"
   ]
  },
  {
   "cell_type": "code",
   "execution_count": 59,
   "id": "20c4f3c9",
   "metadata": {},
   "outputs": [
    {
     "name": "stdout",
     "output_type": "stream",
     "text": [
      "   A  B  C\n",
      "0  1  4  5\n",
      "1  2  5  7\n",
      "2  3  6  9\n"
     ]
    }
   ],
   "source": [
    "import pandas as pd\n",
    "\n",
    "df = pd.DataFrame({'A': [1, 2, 3], 'B': [4, 5, 6]})\n",
    "\n",
    "def sum_columns(row):\n",
    "    return row['A'] + row['B']\n",
    "\n",
    "df['C'] = df.apply(sum_columns, axis=1)\n",
    "\n",
    "print(df)\n"
   ]
  },
  {
   "cell_type": "markdown",
   "id": "3c1ede59",
   "metadata": {},
   "source": [
    "## Sorting and Ordering a dataframe"
   ]
  },
  {
   "cell_type": "markdown",
   "id": "08e9cba3",
   "metadata": {},
   "source": [
    "To sort a dataframe by a single column, you can specify the column name in the sort_values() method, and the method will return a sorted dataframe based on that column."
   ]
  },
  {
   "cell_type": "markdown",
   "id": "63b1235c",
   "metadata": {},
   "source": [
    "#### Example 1:"
   ]
  },
  {
   "cell_type": "code",
   "execution_count": 60,
   "id": "b725f275",
   "metadata": {},
   "outputs": [
    {
     "name": "stdout",
     "output_type": "stream",
     "text": [
      "     Name  Age  Salary\n",
      "2    Joda   20   45000\n",
      "0   Nihal   25   50000\n",
      "1  Satish   30   60000\n",
      "3    Sona   35   70000\n"
     ]
    }
   ],
   "source": [
    "import pandas as pd\n",
    "\n",
    "# create a sample dataframe\n",
    "df = pd.DataFrame({'Name': ['Nihal', 'Satish', 'Joda', 'Sona'],\n",
    "                   'Age': [25, 30, 20, 35],\n",
    "                   'Salary': [50000, 60000, 45000, 70000]})\n",
    "\n",
    "# sort the dataframe by Age column\n",
    "sorted_df = df.sort_values('Age')\n",
    "\n",
    "print(sorted_df)\n"
   ]
  },
  {
   "cell_type": "markdown",
   "id": "a875be83",
   "metadata": {},
   "source": [
    "#### Example 2:"
   ]
  },
  {
   "cell_type": "code",
   "execution_count": 61,
   "id": "0d683e46",
   "metadata": {},
   "outputs": [
    {
     "name": "stdout",
     "output_type": "stream",
     "text": [
      "     Name  Age  Salary\n",
      "2    Joda   20   45000\n",
      "0   Nihal   25   50000\n",
      "1  Satish   30   60000\n",
      "3    Sona   35   70000\n"
     ]
    }
   ],
   "source": [
    "import pandas as pd\n",
    "\n",
    "# create a sample dataframe\n",
    "df = pd.DataFrame({'Name': ['Nihal', 'Satish', 'Joda', 'Sona'],\n",
    "                   'Age': [25, 30, 20, 35],\n",
    "                   'Salary': [50000, 60000, 45000, 70000]})\n",
    "\n",
    "# sort the dataframe by Age and Salary columns\n",
    "sorted_df = df.sort_values(['Age', 'Salary'])\n",
    "\n",
    "print(sorted_df)\n"
   ]
  },
  {
   "cell_type": "markdown",
   "id": "ea14d774",
   "metadata": {},
   "source": [
    "#### Example 3:"
   ]
  },
  {
   "cell_type": "code",
   "execution_count": 62,
   "id": "06988c5a",
   "metadata": {},
   "outputs": [
    {
     "name": "stdout",
     "output_type": "stream",
     "text": [
      "     Name  Age  Salary\n",
      "3    Sona   35   70000\n",
      "1  Satish   30   60000\n",
      "0   Nihal   25   50000\n",
      "2    Joda   20   45000\n"
     ]
    }
   ],
   "source": [
    "import pandas as pd\n",
    "\n",
    "# create a sample dataframe\n",
    "df = pd.DataFrame({'Name':['Nihal', 'Satish', 'Joda', 'Sona'] ,\n",
    "                   'Age': [25, 30, 20, 35],\n",
    "                   'Salary': [50000, 60000, 45000, 70000]})\n",
    "\n",
    "# sort the dataframe by Age column in descending order\n",
    "sorted_df = df.sort_values('Age', ascending=False)\n",
    "\n",
    "print(sorted_df)\n"
   ]
  },
  {
   "cell_type": "markdown",
   "id": "eea6641e",
   "metadata": {},
   "source": [
    "## Pivot table "
   ]
  },
  {
   "cell_type": "markdown",
   "id": "a330f0b7",
   "metadata": {},
   "source": [
    "A pivot table is a summary table that is used to aggregate and organize data. It allows you to summarize and analyze large datasets by grouping the data according to one or more criteria and then performing calculations on the grouped data."
   ]
  },
  {
   "cell_type": "markdown",
   "id": "ad48e4a3",
   "metadata": {},
   "source": [
    "In pandas, we can create a pivot table using the pivot_table method. The method takes several parameters, including the data frame to pivot, the index (or row) columns, the column(s) to pivot, the aggregation function to use, and any additional options."
   ]
  },
  {
   "cell_type": "code",
   "execution_count": 63,
   "id": "b8819575",
   "metadata": {},
   "outputs": [
    {
     "name": "stdout",
     "output_type": "stream",
     "text": [
      "            income\n",
      "gender age        \n",
      "F      40    80000\n",
      "       45    90000\n",
      "M      25    50000\n",
      "       30    60000\n",
      "       35    70000\n"
     ]
    }
   ],
   "source": [
    "import pandas as pd\n",
    "\n",
    "# create a sample data frame\n",
    "df = pd.DataFrame({'name': ['Nihal', 'Satish','Loki' ,'Joda', 'Sona'],\n",
    "                   'gender': ['M', 'M', 'M', 'F', 'F'],\n",
    "                   'age': [25, 30, 35, 40, 45],\n",
    "                   'income': [50000, 60000, 70000, 80000, 90000]})\n",
    "\n",
    "# create a pivot table that shows the average income by gender and age\n",
    "pivot_table = pd.pivot_table(df, index=['gender', 'age'], values='income', aggfunc='mean')\n",
    "\n",
    "# print the pivot table\n",
    "print(pivot_table)\n"
   ]
  }
 ],
 "metadata": {
  "kernelspec": {
   "display_name": "Python 3 (ipykernel)",
   "language": "python",
   "name": "python3"
  },
  "language_info": {
   "codemirror_mode": {
    "name": "ipython",
    "version": 3
   },
   "file_extension": ".py",
   "mimetype": "text/x-python",
   "name": "python",
   "nbconvert_exporter": "python",
   "pygments_lexer": "ipython3",
   "version": "3.9.13"
  }
 },
 "nbformat": 4,
 "nbformat_minor": 5
}
