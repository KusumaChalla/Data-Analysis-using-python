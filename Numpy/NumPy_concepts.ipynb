{
 "cells": [
  {
   "cell_type": "markdown",
   "id": "c71b8699",
   "metadata": {},
   "source": [
    "# NumPy"
   ]
  },
  {
   "cell_type": "markdown",
   "id": "0a7c1921",
   "metadata": {},
   "source": [
    "## Creating NumPy arrays"
   ]
  },
  {
   "cell_type": "markdown",
   "id": "086f5ba8",
   "metadata": {},
   "source": [
    "__NumPy arrays can be created using various methods__"
   ]
  },
  {
   "cell_type": "markdown",
   "id": "3d3c6a87",
   "metadata": {},
   "source": [
    "##  _From a list or tuple_:"
   ]
  },
  {
   "cell_type": "code",
   "execution_count": 1,
   "id": "b6d4028d",
   "metadata": {},
   "outputs": [
    {
     "name": "stdout",
     "output_type": "stream",
     "text": [
      "[1 2 3 4 5]\n"
     ]
    }
   ],
   "source": [
    "import numpy as np\n",
    "\n",
    "my_list = [1, 2, 3, 4, 5]\n",
    "my_array = np.array(my_list)\n",
    "print(my_array)"
   ]
  },
  {
   "cell_type": "markdown",
   "id": "386dc9d0",
   "metadata": {},
   "source": [
    "## _Using the arange() function to create a range of values_:"
   ]
  },
  {
   "cell_type": "code",
   "execution_count": 2,
   "id": "14a1aadb",
   "metadata": {},
   "outputs": [
    {
     "name": "stdout",
     "output_type": "stream",
     "text": [
      "[1 2 3 4 5 6 7 8 9]\n"
     ]
    }
   ],
   "source": [
    "my_array = np.arange(1, 10)\n",
    "print(my_array)"
   ]
  },
  {
   "cell_type": "markdown",
   "id": "f98a61c9",
   "metadata": {},
   "source": [
    "## _Using the zeros() function to create an array of zeros_:"
   ]
  },
  {
   "cell_type": "code",
   "execution_count": 3,
   "id": "1aab2038",
   "metadata": {
    "scrolled": true
   },
   "outputs": [
    {
     "name": "stdout",
     "output_type": "stream",
     "text": [
      "[0. 0. 0. 0. 0.]\n"
     ]
    }
   ],
   "source": [
    "my_array = np.zeros(5)\n",
    "print(my_array)"
   ]
  },
  {
   "cell_type": "code",
   "execution_count": 4,
   "id": "89a47550",
   "metadata": {},
   "outputs": [
    {
     "data": {
      "text/plain": [
       "array([[0., 0., 0., 0., 0.],\n",
       "       [0., 0., 0., 0., 0.],\n",
       "       [0., 0., 0., 0., 0.],\n",
       "       [0., 0., 0., 0., 0.],\n",
       "       [0., 0., 0., 0., 0.]])"
      ]
     },
     "execution_count": 4,
     "metadata": {},
     "output_type": "execute_result"
    }
   ],
   "source": [
    "np.zeros((5,5))"
   ]
  },
  {
   "cell_type": "markdown",
   "id": "7b41c2f0",
   "metadata": {},
   "source": [
    "## _Using the ones() function to create an array of ones_:"
   ]
  },
  {
   "cell_type": "code",
   "execution_count": 5,
   "id": "2d9872db",
   "metadata": {
    "scrolled": true
   },
   "outputs": [
    {
     "name": "stdout",
     "output_type": "stream",
     "text": [
      "[1. 1. 1. 1. 1.]\n"
     ]
    }
   ],
   "source": [
    "my_array = np.ones(5)\n",
    "print(my_array)"
   ]
  },
  {
   "cell_type": "code",
   "execution_count": 6,
   "id": "9ee90e83",
   "metadata": {},
   "outputs": [
    {
     "data": {
      "text/plain": [
       "array([[1., 1., 1., 1.],\n",
       "       [1., 1., 1., 1.],\n",
       "       [1., 1., 1., 1.]])"
      ]
     },
     "execution_count": 6,
     "metadata": {},
     "output_type": "execute_result"
    }
   ],
   "source": [
    "np.ones((3,4))"
   ]
  },
  {
   "cell_type": "code",
   "execution_count": 7,
   "id": "743465df",
   "metadata": {},
   "outputs": [
    {
     "data": {
      "text/plain": [
       "array([10., 10., 10., 10., 10.])"
      ]
     },
     "execution_count": 7,
     "metadata": {},
     "output_type": "execute_result"
    }
   ],
   "source": [
    "np.ones(5)*10"
   ]
  },
  {
   "cell_type": "markdown",
   "id": "42801f99",
   "metadata": {},
   "source": [
    "## _Using the linspace() function to create an array of evenly spaced values_:"
   ]
  },
  {
   "cell_type": "code",
   "execution_count": 8,
   "id": "08827875",
   "metadata": {},
   "outputs": [
    {
     "name": "stdout",
     "output_type": "stream",
     "text": [
      "[0.         0.11111111 0.22222222 0.33333333 0.44444444 0.55555556\n",
      " 0.66666667 0.77777778 0.88888889 1.        ]\n"
     ]
    }
   ],
   "source": [
    "my_array = np.linspace(0, 1, 10)\n",
    "print(my_array)"
   ]
  },
  {
   "cell_type": "markdown",
   "id": "15f8e047",
   "metadata": {},
   "source": [
    "## _Identity matrix_"
   ]
  },
  {
   "cell_type": "code",
   "execution_count": 9,
   "id": "d5a5483b",
   "metadata": {},
   "outputs": [
    {
     "data": {
      "text/plain": [
       "array([[1., 0., 0., 0.],\n",
       "       [0., 1., 0., 0.],\n",
       "       [0., 0., 1., 0.],\n",
       "       [0., 0., 0., 1.]])"
      ]
     },
     "execution_count": 9,
     "metadata": {},
     "output_type": "execute_result"
    }
   ],
   "source": [
    "np.eye(4)"
   ]
  },
  {
   "cell_type": "markdown",
   "id": "74fd0985",
   "metadata": {},
   "source": [
    "# Indexing and slicing numpy arrays"
   ]
  },
  {
   "cell_type": "code",
   "execution_count": 10,
   "id": "af341d33",
   "metadata": {},
   "outputs": [
    {
     "data": {
      "text/plain": [
       "0.2222222222222222"
      ]
     },
     "execution_count": 10,
     "metadata": {},
     "output_type": "execute_result"
    }
   ],
   "source": [
    "my_array[2]"
   ]
  },
  {
   "cell_type": "code",
   "execution_count": 11,
   "id": "88d220dc",
   "metadata": {},
   "outputs": [
    {
     "data": {
      "text/plain": [
       "array([0.        , 0.11111111, 0.22222222])"
      ]
     },
     "execution_count": 11,
     "metadata": {},
     "output_type": "execute_result"
    }
   ],
   "source": [
    "my_array[0:3]"
   ]
  },
  {
   "cell_type": "code",
   "execution_count": 12,
   "id": "a0bd73b1",
   "metadata": {},
   "outputs": [
    {
     "data": {
      "text/plain": [
       "array([1.])"
      ]
     },
     "execution_count": 12,
     "metadata": {},
     "output_type": "execute_result"
    }
   ],
   "source": [
    "my_array[-1:]"
   ]
  },
  {
   "cell_type": "code",
   "execution_count": 13,
   "id": "339ac6c5",
   "metadata": {},
   "outputs": [
    {
     "data": {
      "text/plain": [
       "array([0.11111111, 0.33333333])"
      ]
     },
     "execution_count": 13,
     "metadata": {},
     "output_type": "execute_result"
    }
   ],
   "source": [
    "my_array[1:5:2]"
   ]
  },
  {
   "cell_type": "markdown",
   "id": "59a70059",
   "metadata": {},
   "source": [
    "# Broadcasting"
   ]
  },
  {
   "cell_type": "code",
   "execution_count": 14,
   "id": "17597310",
   "metadata": {},
   "outputs": [
    {
     "name": "stdout",
     "output_type": "stream",
     "text": [
      "[ 4 10 18]\n"
     ]
    }
   ],
   "source": [
    "import numpy as np\n",
    "\n",
    "\n",
    "a = np.array([1, 2, 3])\n",
    "b = np.array([4, 5, 6])\n",
    "\n",
    "\n",
    "c = a * b\n",
    "\n",
    "print(c)"
   ]
  },
  {
   "cell_type": "markdown",
   "id": "cc43f150",
   "metadata": {},
   "source": [
    "### complex example 1:"
   ]
  },
  {
   "cell_type": "code",
   "execution_count": 15,
   "id": "236f4ef2",
   "metadata": {},
   "outputs": [
    {
     "name": "stdout",
     "output_type": "stream",
     "text": [
      "[[6.+2.j 8.+4.j]\n",
      " [7.+2.j 9.+4.j]]\n"
     ]
    }
   ],
   "source": [
    "import numpy as np\n",
    "\n",
    "# Define two arrays of different shapes\n",
    "a = np.array([1+2j, 3+4j])\n",
    "b = np.array([5, 6])\n",
    "\n",
    "# Broadcasting\n",
    "c = a + b[:, np.newaxis]\n",
    "\n",
    "print(c)\n"
   ]
  },
  {
   "cell_type": "markdown",
   "id": "b09bf85b",
   "metadata": {},
   "source": [
    "### complex example 2:"
   ]
  },
  {
   "cell_type": "code",
   "execution_count": 16,
   "id": "5b074062",
   "metadata": {},
   "outputs": [
    {
     "name": "stdout",
     "output_type": "stream",
     "text": [
      "[[ 1  2]\n",
      " [ 6  8]\n",
      " [15 18]]\n"
     ]
    }
   ],
   "source": [
    "\n",
    "import numpy as np\n",
    "\n",
    "a = np.array([[1, 2], [3, 4], [5, 6]])\n",
    "b = np.array([1, 2, 3])\n",
    "\n",
    "c = a * b[:, np.newaxis]\n",
    "\n",
    "print(c)\n",
    "\n"
   ]
  },
  {
   "cell_type": "markdown",
   "id": "9e4fb2f2",
   "metadata": {},
   "source": [
    "### Addition"
   ]
  },
  {
   "cell_type": "code",
   "execution_count": 17,
   "id": "764159fd",
   "metadata": {},
   "outputs": [
    {
     "name": "stdout",
     "output_type": "stream",
     "text": [
      "[5 7 9]\n",
      "[5 7 9]\n"
     ]
    }
   ],
   "source": [
    "import numpy as np\n",
    "\n",
    "a = np.array([1, 2, 3])\n",
    "b = np.array([4, 5, 6])\n",
    "c = a + b\n",
    "d = np.add(a, b)\n",
    "\n",
    "print(c) \n",
    "print(d)\n"
   ]
  },
  {
   "cell_type": "markdown",
   "id": "6fd76241",
   "metadata": {},
   "source": [
    "### Subtraction"
   ]
  },
  {
   "cell_type": "code",
   "execution_count": 18,
   "id": "d8c40482",
   "metadata": {},
   "outputs": [
    {
     "name": "stdout",
     "output_type": "stream",
     "text": [
      "[3 3 3]\n",
      "[3 3 3]\n"
     ]
    }
   ],
   "source": [
    "import numpy as np\n",
    "\n",
    "a = np.array([4, 5, 6])\n",
    "b = np.array([1, 2, 3])\n",
    "c = a - b\n",
    "d = np.subtract(a, b)\n",
    "\n",
    "print(c) \n",
    "print(d)\n"
   ]
  },
  {
   "cell_type": "markdown",
   "id": "3fae72e7",
   "metadata": {},
   "source": [
    "### Multiplication"
   ]
  },
  {
   "cell_type": "code",
   "execution_count": 19,
   "id": "a0426238",
   "metadata": {},
   "outputs": [
    {
     "name": "stdout",
     "output_type": "stream",
     "text": [
      "[ 4 10 18]\n",
      "[ 4 10 18]\n"
     ]
    }
   ],
   "source": [
    "import numpy as np\n",
    "\n",
    "a = np.array([1, 2, 3])\n",
    "b = np.array([4, 5, 6])\n",
    "c = a * b\n",
    "d = np.multiply(a, b)\n",
    "\n",
    "print(c) \n",
    "print(d) \n"
   ]
  },
  {
   "cell_type": "markdown",
   "id": "d6fd27c2",
   "metadata": {},
   "source": [
    "### Division"
   ]
  },
  {
   "cell_type": "code",
   "execution_count": 20,
   "id": "5baca346",
   "metadata": {},
   "outputs": [
    {
     "name": "stdout",
     "output_type": "stream",
     "text": [
      "[2. 2. 2.]\n",
      "[2. 2. 2.]\n"
     ]
    }
   ],
   "source": [
    "import numpy as np\n",
    "\n",
    "a = np.array([4, 6, 8])\n",
    "b = np.array([2, 3, 4])\n",
    "c = a / b\n",
    "d = np.divide(a, b)\n",
    "\n",
    "print(c) \n",
    "print(d) \n"
   ]
  },
  {
   "cell_type": "markdown",
   "id": "3ac97468",
   "metadata": {},
   "source": [
    "### Exponentiation"
   ]
  },
  {
   "cell_type": "code",
   "execution_count": 21,
   "id": "f46ae07b",
   "metadata": {},
   "outputs": [
    {
     "name": "stdout",
     "output_type": "stream",
     "text": [
      "[8 9 4]\n",
      "[8 9 4]\n"
     ]
    }
   ],
   "source": [
    "import numpy as np\n",
    "\n",
    "a = np.array([2, 3, 4])\n",
    "b = np.array([3, 2, 1])\n",
    "c = a ** b\n",
    "d = np.power(a, b)\n",
    "\n",
    "print(c) \n",
    "print(d) \n"
   ]
  },
  {
   "cell_type": "markdown",
   "id": "82652263",
   "metadata": {},
   "source": [
    "### Square Root"
   ]
  },
  {
   "cell_type": "code",
   "execution_count": 22,
   "id": "041c1794",
   "metadata": {},
   "outputs": [
    {
     "name": "stdout",
     "output_type": "stream",
     "text": [
      "[2. 3. 4.]\n"
     ]
    }
   ],
   "source": [
    "import numpy as np\n",
    "\n",
    "a = np.array([4, 9, 16])\n",
    "b = np.sqrt(a)\n",
    "\n",
    "print(b)\n"
   ]
  },
  {
   "cell_type": "markdown",
   "id": "345e77d2",
   "metadata": {},
   "source": [
    "### Trigonometric Functions"
   ]
  },
  {
   "cell_type": "code",
   "execution_count": 23,
   "id": "ee4ff41c",
   "metadata": {},
   "outputs": [
    {
     "name": "stdout",
     "output_type": "stream",
     "text": [
      "[0.0000000e+00 1.0000000e+00 1.2246468e-16]\n",
      "[ 1.000000e+00  6.123234e-17 -1.000000e+00]\n"
     ]
    }
   ],
   "source": [
    "import numpy as np\n",
    "\n",
    "a = np.array([0, np.pi/2, np.pi])\n",
    "b = np.sin(a)\n",
    "c = np.cos(a)\n",
    "d = np.tan(a)\n",
    "\n",
    "print(b) \n",
    "print(c) \n"
   ]
  },
  {
   "cell_type": "markdown",
   "id": "211f7c6c",
   "metadata": {},
   "source": [
    "# Vectorization"
   ]
  },
  {
   "cell_type": "code",
   "execution_count": 24,
   "id": "8c43b457",
   "metadata": {},
   "outputs": [
    {
     "name": "stdout",
     "output_type": "stream",
     "text": [
      "[4, 10, 18]\n"
     ]
    }
   ],
   "source": [
    "a = [1, 2, 3]\n",
    "b = [4, 5, 6]\n",
    "c = []\n",
    "\n",
    "for i in range(len(a)):\n",
    "    c.append(a[i] * b[i])\n",
    "\n",
    "print(c)\n"
   ]
  },
  {
   "cell_type": "code",
   "execution_count": 25,
   "id": "9f9502df",
   "metadata": {},
   "outputs": [
    {
     "name": "stdout",
     "output_type": "stream",
     "text": [
      "[ 4 10 18]\n"
     ]
    }
   ],
   "source": [
    "import numpy as np\n",
    "\n",
    "a = np.array([1, 2, 3])\n",
    "b = np.array([4, 5, 6])\n",
    "c = a * b\n",
    "\n",
    "print(c) "
   ]
  },
  {
   "cell_type": "markdown",
   "id": "575ce9d8",
   "metadata": {},
   "source": [
    "# numpy.random"
   ]
  },
  {
   "cell_type": "code",
   "execution_count": 26,
   "id": "e7480e96",
   "metadata": {},
   "outputs": [
    {
     "name": "stdout",
     "output_type": "stream",
     "text": [
      "[[0.17389188 0.25523107 0.08349905]\n",
      " [0.06645089 0.04518133 0.59605967]\n",
      " [0.28235518 0.00278521 0.49640775]]\n",
      "[[-0.62162698 -0.27140153]\n",
      " [-0.78134427 -1.04771505]]\n",
      "[1 5 4 1 4]\n",
      "[[0.07963204 0.21683464 0.84711077]\n",
      " [0.83573976 0.1738649  0.84191426]]\n",
      "[5 2 3]\n",
      "[2 1 5 3 4]\n"
     ]
    }
   ],
   "source": [
    "import numpy as np\n",
    "\n",
    "# generate a 3x3 array of random numbers between 0 and 1\n",
    "a = np.random.rand(3, 3)\n",
    "\n",
    "# generate a 2x2 array of random numbers from a standard normal distribution\n",
    "b = np.random.randn(2, 2)\n",
    "\n",
    "# generate a 1D array of 5 random integers between 0 and 9\n",
    "c = np.random.randint(0, 10, 5)\n",
    "\n",
    "# generate a 2x3 array of random numbers between 0 and 1\n",
    "d = np.random.random_sample((2, 3))\n",
    "\n",
    "# randomly select 3 elements from an array without replacement\n",
    "e = np.random.choice([1, 2, 3, 4, 5], size=3, replace=False)\n",
    "\n",
    "# shuffle the elements of an array in place\n",
    "f = np.array([1, 2, 3, 4, 5])\n",
    "np.random.shuffle(f)\n",
    "\n",
    "print(a)\n",
    "print(b)\n",
    "print(c)\n",
    "print(d)\n",
    "print(e)\n",
    "print(f)\n"
   ]
  },
  {
   "cell_type": "markdown",
   "id": "3a3b1180",
   "metadata": {},
   "source": [
    "## Reshape"
   ]
  },
  {
   "cell_type": "code",
   "execution_count": 27,
   "id": "923b37b4",
   "metadata": {},
   "outputs": [],
   "source": [
    "arr = np.arange(25)"
   ]
  },
  {
   "cell_type": "code",
   "execution_count": 28,
   "id": "c942a4f9",
   "metadata": {},
   "outputs": [
    {
     "data": {
      "text/plain": [
       "array([ 0,  1,  2,  3,  4,  5,  6,  7,  8,  9, 10, 11, 12, 13, 14, 15, 16,\n",
       "       17, 18, 19, 20, 21, 22, 23, 24])"
      ]
     },
     "execution_count": 28,
     "metadata": {},
     "output_type": "execute_result"
    }
   ],
   "source": [
    "arr"
   ]
  },
  {
   "cell_type": "code",
   "execution_count": 29,
   "id": "0b44bde1",
   "metadata": {},
   "outputs": [],
   "source": [
    "A = arr.reshape(5,5)"
   ]
  },
  {
   "cell_type": "code",
   "execution_count": 30,
   "id": "99f2c5b2",
   "metadata": {},
   "outputs": [
    {
     "data": {
      "text/plain": [
       "array([[ 0,  1,  2,  3,  4],\n",
       "       [ 5,  6,  7,  8,  9],\n",
       "       [10, 11, 12, 13, 14],\n",
       "       [15, 16, 17, 18, 19],\n",
       "       [20, 21, 22, 23, 24]])"
      ]
     },
     "execution_count": 30,
     "metadata": {},
     "output_type": "execute_result"
    }
   ],
   "source": [
    "A"
   ]
  },
  {
   "cell_type": "markdown",
   "id": "38a04dd7",
   "metadata": {},
   "source": [
    "# Mathematical Functions:"
   ]
  },
  {
   "cell_type": "code",
   "execution_count": 31,
   "id": "1c40af59",
   "metadata": {},
   "outputs": [
    {
     "name": "stdout",
     "output_type": "stream",
     "text": [
      "b [0.84147098 0.90929743 0.14112001]\n",
      "\n",
      "c [ 2.71828183  7.3890561  20.08553692]\n",
      "\n",
      "d [1.         1.41421356 1.73205081]\n",
      "\n",
      "e [0.         0.52359878 1.57079633]\n",
      "\n",
      "f [ 1.55740772 -2.18503986 -0.14254654]\n",
      "\n",
      "g 2.0\n",
      "\n",
      "h 3\n",
      "\n",
      "i 2.0\n",
      "\n",
      "j [[1 2]\n",
      " [3 4]]\n",
      "\n",
      "k -2.0000000000000004\n",
      "\n",
      "l [[-2.   1. ]\n",
      " [ 1.5 -0.5]]\n",
      "\n"
     ]
    }
   ],
   "source": [
    "import numpy as np\n",
    "\n",
    "# create a 1D array\n",
    "a = np.array([1, 2, 3])\n",
    "x = np.array([0, 0.5, 1])\n",
    "\n",
    "# apply basic mathematical functions to array elements\n",
    "b = np.sin(a)\n",
    "c = np.exp(a)\n",
    "d = np.sqrt(a)\n",
    "\n",
    "# apply trigonometric functions to array elements\n",
    "e = np.arcsin(x)\n",
    "f = np.tan(a)\n",
    "\n",
    "# apply statistical functions to an array\n",
    "g = np.mean(a)\n",
    "h = np.max(a)\n",
    "i = np.median(a)\n",
    "\n",
    "# perform linear algebra operations\n",
    "j = np.array([[1, 2], [3, 4]])\n",
    "k = np.linalg.det(j)\n",
    "l = np.linalg.inv(j)\n",
    "\n",
    "print(f\"b {b}\\n\")\n",
    "print(f\"c {c}\\n\")\n",
    "print(f\"d {d}\\n\")\n",
    "print(f\"e {e}\\n\")\n",
    "print(f\"f {f}\\n\")\n",
    "print(f\"g {g}\\n\")\n",
    "print(f\"h {h}\\n\")\n",
    "print(f\"i {i}\\n\")\n",
    "print(f\"j {j}\\n\")\n",
    "print(f\"k {k}\\n\")\n",
    "print(f\"l {l}\\n\")"
   ]
  },
  {
   "cell_type": "markdown",
   "id": "534ffacc",
   "metadata": {},
   "source": [
    "## To find at what index value is the max,min value located"
   ]
  },
  {
   "cell_type": "code",
   "execution_count": 32,
   "id": "509bc626",
   "metadata": {},
   "outputs": [],
   "source": [
    "ranarr = np.random.randint(0,50,10)"
   ]
  },
  {
   "cell_type": "code",
   "execution_count": 33,
   "id": "2d02e8b9",
   "metadata": {},
   "outputs": [
    {
     "data": {
      "text/plain": [
       "array([31, 25, 21,  1, 16, 16,  2, 28, 17, 33])"
      ]
     },
     "execution_count": 33,
     "metadata": {},
     "output_type": "execute_result"
    }
   ],
   "source": [
    "ranarr"
   ]
  },
  {
   "cell_type": "code",
   "execution_count": 34,
   "id": "1e0f739b",
   "metadata": {},
   "outputs": [
    {
     "data": {
      "text/plain": [
       "9"
      ]
     },
     "execution_count": 34,
     "metadata": {},
     "output_type": "execute_result"
    }
   ],
   "source": [
    "ranarr.argmax()"
   ]
  },
  {
   "cell_type": "code",
   "execution_count": 35,
   "id": "33e6c5df",
   "metadata": {},
   "outputs": [
    {
     "data": {
      "text/plain": [
       "3"
      ]
     },
     "execution_count": 35,
     "metadata": {},
     "output_type": "execute_result"
    }
   ],
   "source": [
    "ranarr.argmin()"
   ]
  },
  {
   "cell_type": "markdown",
   "id": "e965f80c",
   "metadata": {},
   "source": [
    "## To find shape of a vector"
   ]
  },
  {
   "cell_type": "code",
   "execution_count": 36,
   "id": "b6dd2e88",
   "metadata": {},
   "outputs": [
    {
     "data": {
      "text/plain": [
       "(10,)"
      ]
     },
     "execution_count": 36,
     "metadata": {},
     "output_type": "execute_result"
    }
   ],
   "source": [
    "ranarr.shape"
   ]
  },
  {
   "cell_type": "code",
   "execution_count": 37,
   "id": "ce542df2",
   "metadata": {},
   "outputs": [
    {
     "data": {
      "text/plain": [
       "(25,)"
      ]
     },
     "execution_count": 37,
     "metadata": {},
     "output_type": "execute_result"
    }
   ],
   "source": [
    "arr.shape"
   ]
  },
  {
   "cell_type": "code",
   "execution_count": 38,
   "id": "864a9823",
   "metadata": {},
   "outputs": [
    {
     "data": {
      "text/plain": [
       "(5, 5)"
      ]
     },
     "execution_count": 38,
     "metadata": {},
     "output_type": "execute_result"
    }
   ],
   "source": [
    "A.shape"
   ]
  }
 ],
 "metadata": {
  "kernelspec": {
   "display_name": "Python 3 (ipykernel)",
   "language": "python",
   "name": "python3"
  },
  "language_info": {
   "codemirror_mode": {
    "name": "ipython",
    "version": 3
   },
   "file_extension": ".py",
   "mimetype": "text/x-python",
   "name": "python",
   "nbconvert_exporter": "python",
   "pygments_lexer": "ipython3",
   "version": "3.9.13"
  }
 },
 "nbformat": 4,
 "nbformat_minor": 5
}
