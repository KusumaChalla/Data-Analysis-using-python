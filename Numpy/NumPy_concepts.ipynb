{
 "cells": [
  {
   "cell_type": "markdown",
   "id": "c71b8699",
   "metadata": {},
   "source": [
    "# NumPy"
   ]
  },
  {
   "cell_type": "markdown",
   "id": "0a7c1921",
   "metadata": {},
   "source": [
    "## Creating NumPy arrays"
   ]
  },
  {
   "cell_type": "markdown",
   "id": "086f5ba8",
   "metadata": {},
   "source": [
    "__NumPy arrays can be created using various methods__"
   ]
  },
  {
   "cell_type": "markdown",
   "id": "3d3c6a87",
   "metadata": {},
   "source": [
    "##  _From a list or tuple_:"
   ]
  },
  {
   "cell_type": "code",
   "execution_count": 1,
   "id": "b6d4028d",
   "metadata": {},
   "outputs": [
    {
     "name": "stdout",
     "output_type": "stream",
     "text": [
      "[1 2 3 4 5]\n"
     ]
    }
   ],
   "source": [
    "import numpy as np\n",
    "\n",
    "my_list = [1, 2, 3, 4, 5]\n",
    "my_array = np.array(my_list)\n",
    "print(my_array)"
   ]
  },
  {
   "cell_type": "markdown",
   "id": "386dc9d0",
   "metadata": {},
   "source": [
    "## _Using the arange() function to create a range of values_:"
   ]
  },
  {
   "cell_type": "code",
   "execution_count": 2,
   "id": "14a1aadb",
   "metadata": {},
   "outputs": [
    {
     "name": "stdout",
     "output_type": "stream",
     "text": [
      "[1 2 3 4 5 6 7 8 9]\n"
     ]
    }
   ],
   "source": [
    "my_array = np.arange(1, 10)\n",
    "print(my_array)"
   ]
  },
  {
   "cell_type": "markdown",
   "id": "f98a61c9",
   "metadata": {},
   "source": [
    "## _Using the zeros() function to create an array of zeros_:"
   ]
  },
  {
   "cell_type": "code",
   "execution_count": 3,
   "id": "1aab2038",
   "metadata": {},
   "outputs": [
    {
     "name": "stdout",
     "output_type": "stream",
     "text": [
      "[0. 0. 0. 0. 0.]\n"
     ]
    }
   ],
   "source": [
    "my_array = np.zeros(5)\n",
    "print(my_array)"
   ]
  },
  {
   "cell_type": "markdown",
   "id": "7b41c2f0",
   "metadata": {},
   "source": [
    "## _Using the ones() function to create an array of ones_:"
   ]
  },
  {
   "cell_type": "code",
   "execution_count": 4,
   "id": "2d9872db",
   "metadata": {},
   "outputs": [
    {
     "name": "stdout",
     "output_type": "stream",
     "text": [
      "[1. 1. 1. 1. 1.]\n"
     ]
    }
   ],
   "source": [
    "my_array = np.ones(5)\n",
    "print(my_array)"
   ]
  },
  {
   "cell_type": "markdown",
   "id": "42801f99",
   "metadata": {},
   "source": [
    "## _Using the linspace() function to create an array of evenly spaced values_:"
   ]
  },
  {
   "cell_type": "code",
   "execution_count": 5,
   "id": "08827875",
   "metadata": {},
   "outputs": [
    {
     "name": "stdout",
     "output_type": "stream",
     "text": [
      "[0.         0.11111111 0.22222222 0.33333333 0.44444444 0.55555556\n",
      " 0.66666667 0.77777778 0.88888889 1.        ]\n"
     ]
    }
   ],
   "source": [
    "my_array = np.linspace(0, 1, 10)\n",
    "print(my_array)"
   ]
  },
  {
   "cell_type": "markdown",
   "id": "74fd0985",
   "metadata": {},
   "source": [
    "# Indexing and slicing numpy arrays"
   ]
  },
  {
   "cell_type": "code",
   "execution_count": 6,
   "id": "af341d33",
   "metadata": {},
   "outputs": [
    {
     "data": {
      "text/plain": [
       "0.2222222222222222"
      ]
     },
     "execution_count": 6,
     "metadata": {},
     "output_type": "execute_result"
    }
   ],
   "source": [
    "my_array[2]"
   ]
  },
  {
   "cell_type": "code",
   "execution_count": 7,
   "id": "88d220dc",
   "metadata": {},
   "outputs": [
    {
     "data": {
      "text/plain": [
       "array([0.        , 0.11111111, 0.22222222])"
      ]
     },
     "execution_count": 7,
     "metadata": {},
     "output_type": "execute_result"
    }
   ],
   "source": [
    "my_array[0:3]"
   ]
  },
  {
   "cell_type": "code",
   "execution_count": 10,
   "id": "a0bd73b1",
   "metadata": {},
   "outputs": [
    {
     "data": {
      "text/plain": [
       "array([1.])"
      ]
     },
     "execution_count": 10,
     "metadata": {},
     "output_type": "execute_result"
    }
   ],
   "source": [
    "my_array[-1:]"
   ]
  },
  {
   "cell_type": "code",
   "execution_count": 11,
   "id": "339ac6c5",
   "metadata": {},
   "outputs": [
    {
     "data": {
      "text/plain": [
       "array([0.11111111, 0.33333333])"
      ]
     },
     "execution_count": 11,
     "metadata": {},
     "output_type": "execute_result"
    }
   ],
   "source": [
    "my_array[1:5:2]"
   ]
  },
  {
   "cell_type": "markdown",
   "id": "40f75638",
   "metadata": {},
   "source": [
    "# Broadcasting"
   ]
  },
  {
   "cell_type": "code",
   "execution_count": 1,
   "id": "a202f208",
   "metadata": {},
   "outputs": [
    {
     "name": "stdout",
     "output_type": "stream",
     "text": [
      "[ 4 10 18]\n"
     ]
    }
   ],
   "source": [
    "import numpy as np\n",
    "\n",
    "\n",
    "a = np.array([1, 2, 3])\n",
    "b = np.array([4, 5, 6])\n",
    "\n",
    "\n",
    "c = a * b\n",
    "\n",
    "print(c)"
   ]
  },
  {
   "cell_type": "markdown",
   "id": "ca09572d",
   "metadata": {},
   "source": [
    "### complex example 1:"
   ]
  },
  {
   "cell_type": "code",
   "execution_count": 2,
   "id": "9010fe87",
   "metadata": {},
   "outputs": [
    {
     "name": "stdout",
     "output_type": "stream",
     "text": [
      "[[6.+2.j 8.+4.j]\n",
      " [7.+2.j 9.+4.j]]\n"
     ]
    }
   ],
   "source": [
    "import numpy as np\n",
    "\n",
    "# Define two arrays of different shapes\n",
    "a = np.array([1+2j, 3+4j])\n",
    "b = np.array([5, 6])\n",
    "\n",
    "# Broadcasting\n",
    "c = a + b[:, np.newaxis]\n",
    "\n",
    "print(c)\n"
   ]
  },
  {
   "cell_type": "markdown",
   "id": "4853ad2f",
   "metadata": {},
   "source": [
    "### complex example 2:"
   ]
  },
  {
   "cell_type": "code",
   "execution_count": 10,
   "id": "851922e3",
   "metadata": {},
   "outputs": [
    {
     "name": "stdout",
     "output_type": "stream",
     "text": [
      "[[ 1  2]\n",
      " [ 6  8]\n",
      " [15 18]]\n"
     ]
    }
   ],
   "source": [
    "\n",
    "import numpy as np\n",
    "\n",
    "a = np.array([[1, 2], [3, 4], [5, 6]])\n",
    "b = np.array([1, 2, 3])\n",
    "\n",
    "c = a * b[:, np.newaxis]\n",
    "\n",
    "print(c)\n",
    "\n"
   ]
  }
 ],
 "metadata": {
  "kernelspec": {
   "display_name": "Python 3 (ipykernel)",
   "language": "python",
   "name": "python3"
  },
  "language_info": {
   "codemirror_mode": {
    "name": "ipython",
    "version": 3
   },
   "file_extension": ".py",
   "mimetype": "text/x-python",
   "name": "python",
   "nbconvert_exporter": "python",
   "pygments_lexer": "ipython3",
   "version": "3.9.13"
  }
 },
 "nbformat": 4,
 "nbformat_minor": 5
}
